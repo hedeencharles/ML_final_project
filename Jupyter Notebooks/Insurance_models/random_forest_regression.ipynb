{
 "cells": [
  {
   "cell_type": "markdown",
   "metadata": {
    "colab_type": "text",
    "id": "LeamvpPVXuS_"
   },
   "source": [
    "# Random Forest Regression"
   ]
  },
  {
   "cell_type": "markdown",
   "metadata": {
    "colab_type": "text",
    "id": "O2wvZ7SKXzVC"
   },
   "source": [
    "## Importing the libraries"
   ]
  },
  {
   "cell_type": "code",
   "execution_count": 1,
   "metadata": {
    "colab": {},
    "colab_type": "code",
    "id": "PVmESEFZX4Ig"
   },
   "outputs": [],
   "source": [
    "import numpy as np\n",
    "import matplotlib.pyplot as plt\n",
    "import pandas as pd"
   ]
  },
  {
   "cell_type": "markdown",
   "metadata": {
    "colab_type": "text",
    "id": "zgbK_F8-X7em"
   },
   "source": [
    "## Importing the dataset"
   ]
  },
  {
   "cell_type": "code",
   "execution_count": 2,
   "metadata": {
    "colab": {},
    "colab_type": "code",
    "id": "adBE4tjQX_Bh"
   },
   "outputs": [
    {
     "data": {
      "text/html": [
       "<div>\n",
       "<style scoped>\n",
       "    .dataframe tbody tr th:only-of-type {\n",
       "        vertical-align: middle;\n",
       "    }\n",
       "\n",
       "    .dataframe tbody tr th {\n",
       "        vertical-align: top;\n",
       "    }\n",
       "\n",
       "    .dataframe thead th {\n",
       "        text-align: right;\n",
       "    }\n",
       "</style>\n",
       "<table border=\"1\" class=\"dataframe\">\n",
       "  <thead>\n",
       "    <tr style=\"text-align: right;\">\n",
       "      <th></th>\n",
       "      <th>age</th>\n",
       "      <th>sex</th>\n",
       "      <th>bmi</th>\n",
       "      <th>children</th>\n",
       "      <th>smoker</th>\n",
       "      <th>region</th>\n",
       "      <th>charges</th>\n",
       "    </tr>\n",
       "  </thead>\n",
       "  <tbody>\n",
       "    <tr>\n",
       "      <th>0</th>\n",
       "      <td>19</td>\n",
       "      <td>female</td>\n",
       "      <td>27.900</td>\n",
       "      <td>0</td>\n",
       "      <td>yes</td>\n",
       "      <td>southwest</td>\n",
       "      <td>16884.92400</td>\n",
       "    </tr>\n",
       "    <tr>\n",
       "      <th>1</th>\n",
       "      <td>18</td>\n",
       "      <td>male</td>\n",
       "      <td>33.770</td>\n",
       "      <td>1</td>\n",
       "      <td>no</td>\n",
       "      <td>southeast</td>\n",
       "      <td>1725.55230</td>\n",
       "    </tr>\n",
       "    <tr>\n",
       "      <th>2</th>\n",
       "      <td>28</td>\n",
       "      <td>male</td>\n",
       "      <td>33.000</td>\n",
       "      <td>3</td>\n",
       "      <td>no</td>\n",
       "      <td>southeast</td>\n",
       "      <td>4449.46200</td>\n",
       "    </tr>\n",
       "    <tr>\n",
       "      <th>3</th>\n",
       "      <td>33</td>\n",
       "      <td>male</td>\n",
       "      <td>22.705</td>\n",
       "      <td>0</td>\n",
       "      <td>no</td>\n",
       "      <td>northwest</td>\n",
       "      <td>21984.47061</td>\n",
       "    </tr>\n",
       "    <tr>\n",
       "      <th>4</th>\n",
       "      <td>32</td>\n",
       "      <td>male</td>\n",
       "      <td>28.880</td>\n",
       "      <td>0</td>\n",
       "      <td>no</td>\n",
       "      <td>northwest</td>\n",
       "      <td>3866.85520</td>\n",
       "    </tr>\n",
       "    <tr>\n",
       "      <th>...</th>\n",
       "      <td>...</td>\n",
       "      <td>...</td>\n",
       "      <td>...</td>\n",
       "      <td>...</td>\n",
       "      <td>...</td>\n",
       "      <td>...</td>\n",
       "      <td>...</td>\n",
       "    </tr>\n",
       "    <tr>\n",
       "      <th>1333</th>\n",
       "      <td>50</td>\n",
       "      <td>male</td>\n",
       "      <td>30.970</td>\n",
       "      <td>3</td>\n",
       "      <td>no</td>\n",
       "      <td>northwest</td>\n",
       "      <td>10600.54830</td>\n",
       "    </tr>\n",
       "    <tr>\n",
       "      <th>1334</th>\n",
       "      <td>18</td>\n",
       "      <td>female</td>\n",
       "      <td>31.920</td>\n",
       "      <td>0</td>\n",
       "      <td>no</td>\n",
       "      <td>northeast</td>\n",
       "      <td>2205.98080</td>\n",
       "    </tr>\n",
       "    <tr>\n",
       "      <th>1335</th>\n",
       "      <td>18</td>\n",
       "      <td>female</td>\n",
       "      <td>36.850</td>\n",
       "      <td>0</td>\n",
       "      <td>no</td>\n",
       "      <td>southeast</td>\n",
       "      <td>1629.83350</td>\n",
       "    </tr>\n",
       "    <tr>\n",
       "      <th>1336</th>\n",
       "      <td>21</td>\n",
       "      <td>female</td>\n",
       "      <td>25.800</td>\n",
       "      <td>0</td>\n",
       "      <td>no</td>\n",
       "      <td>southwest</td>\n",
       "      <td>2007.94500</td>\n",
       "    </tr>\n",
       "    <tr>\n",
       "      <th>1337</th>\n",
       "      <td>61</td>\n",
       "      <td>female</td>\n",
       "      <td>29.070</td>\n",
       "      <td>0</td>\n",
       "      <td>yes</td>\n",
       "      <td>northwest</td>\n",
       "      <td>29141.36030</td>\n",
       "    </tr>\n",
       "  </tbody>\n",
       "</table>\n",
       "<p>1338 rows × 7 columns</p>\n",
       "</div>"
      ],
      "text/plain": [
       "      age     sex     bmi  children smoker     region      charges\n",
       "0      19  female  27.900         0    yes  southwest  16884.92400\n",
       "1      18    male  33.770         1     no  southeast   1725.55230\n",
       "2      28    male  33.000         3     no  southeast   4449.46200\n",
       "3      33    male  22.705         0     no  northwest  21984.47061\n",
       "4      32    male  28.880         0     no  northwest   3866.85520\n",
       "...   ...     ...     ...       ...    ...        ...          ...\n",
       "1333   50    male  30.970         3     no  northwest  10600.54830\n",
       "1334   18  female  31.920         0     no  northeast   2205.98080\n",
       "1335   18  female  36.850         0     no  southeast   1629.83350\n",
       "1336   21  female  25.800         0     no  southwest   2007.94500\n",
       "1337   61  female  29.070         0    yes  northwest  29141.36030\n",
       "\n",
       "[1338 rows x 7 columns]"
      ]
     },
     "execution_count": 2,
     "metadata": {},
     "output_type": "execute_result"
    }
   ],
   "source": [
    "dataset = pd.read_csv('../../Datasets/insurance.csv')\n",
    "X = dataset.iloc[:, :-1].values\n",
    "y = dataset.iloc[:, -1].values\n",
    "dataset"
   ]
  },
  {
   "cell_type": "code",
   "execution_count": 3,
   "metadata": {},
   "outputs": [
    {
     "name": "stdout",
     "output_type": "stream",
     "text": [
      "[[1.0 0.0 0.0 ... 19 27.9 0]\n",
      " [0.0 1.0 1.0 ... 18 33.77 1]\n",
      " [0.0 1.0 1.0 ... 28 33.0 3]\n",
      " ...\n",
      " [1.0 0.0 1.0 ... 18 36.85 0]\n",
      " [1.0 0.0 1.0 ... 21 25.8 0]\n",
      " [1.0 0.0 0.0 ... 61 29.07 0]]\n"
     ]
    }
   ],
   "source": [
    "# One hot encoding: turn string column into 3 different columns (countries), for 3 different categories\n",
    "# Bindary vector: each country to a certain order of the columns\n",
    "\n",
    "# Coding independent variable\n",
    "from sklearn.compose import ColumnTransformer\n",
    "from sklearn.preprocessing import OneHotEncoder\n",
    "\n",
    "# Create object of the column transformer class\n",
    "# [0] is the index of column to apply OneHotEncoding\n",
    "ct = ColumnTransformer(transformers=[('encoder', OneHotEncoder(), [1,4,5])], remainder='passthrough')\n",
    "\n",
    "# Apply the transform method to change the column X\n",
    "X = np.array(ct.fit_transform(X))\n",
    "\n",
    "print(X)"
   ]
  },
  {
   "cell_type": "markdown",
   "metadata": {
    "colab_type": "text",
    "id": "ptNjcy7bOBlD"
   },
   "source": [
    "## Splitting the dataset into the Training set and Test set"
   ]
  },
  {
   "cell_type": "code",
   "execution_count": 4,
   "metadata": {
    "colab": {},
    "colab_type": "code",
    "id": "C7NdofoCOFQF"
   },
   "outputs": [],
   "source": [
    "from sklearn.model_selection import train_test_split\n",
    "X_train, X_test, y_train, y_test = train_test_split(X, y, test_size = 0.2, random_state = 0)"
   ]
  },
  {
   "cell_type": "markdown",
   "metadata": {
    "colab_type": "text",
    "id": "v4S2fyIBYDcu"
   },
   "source": [
    "## Training the Random Forest Regression model on the whole dataset"
   ]
  },
  {
   "cell_type": "code",
   "execution_count": 5,
   "metadata": {
    "colab": {},
    "colab_type": "code",
    "id": "o8dOCoJ1YKMc"
   },
   "outputs": [
    {
     "data": {
      "text/plain": [
       "RandomForestRegressor(n_estimators=10, random_state=0)"
      ]
     },
     "execution_count": 5,
     "metadata": {},
     "output_type": "execute_result"
    }
   ],
   "source": [
    "from sklearn.ensemble import RandomForestRegressor\n",
    "regressor = RandomForestRegressor(n_estimators = 10, random_state = 0)\n",
    "regressor.fit(X_train, y_train)"
   ]
  },
  {
   "cell_type": "markdown",
   "metadata": {
    "colab_type": "text",
    "id": "DM_jh0frOPKE"
   },
   "source": [
    "## Predicting the Test set results"
   ]
  },
  {
   "cell_type": "code",
   "execution_count": 6,
   "metadata": {
    "colab": {},
    "colab_type": "code",
    "id": "JGa9ZfM4OTNw"
   },
   "outputs": [
    {
     "name": "stdout",
     "output_type": "stream",
     "text": [
      "[[ 9884.67  9724.53]\n",
      " [ 8617.73  8547.69]\n",
      " [44864.83 45702.02]\n",
      " [13218.47 12950.07]\n",
      " [ 9364.45  9644.25]\n",
      " [11629.91  4500.34]\n",
      " [ 2070.96  2198.19]\n",
      " [10606.02 11436.74]\n",
      " [ 7189.26  7537.16]\n",
      " [ 7894.81  5425.02]\n",
      " [ 8475.43  6753.04]\n",
      " [15902.45 10493.95]\n",
      " [ 9713.34  7337.75]\n",
      " [ 6954.37  4185.1 ]\n",
      " [23587.36 18310.74]\n",
      " [14072.07 10702.64]\n",
      " [14375.34 12523.6 ]\n",
      " [ 8359.86  3490.55]\n",
      " [ 6520.54  6457.84]\n",
      " [34022.75 33475.82]\n",
      " [23600.09 23967.38]\n",
      " [12666.55 12643.38]\n",
      " [13580.03 23045.57]\n",
      " [27973.92 23065.42]\n",
      " [ 1573.69  1674.63]\n",
      " [11006.22  4667.61]\n",
      " [13182.42  3732.63]\n",
      " [ 7184.23  7682.67]\n",
      " [ 3758.19  3756.62]\n",
      " [ 8670.45  8413.46]\n",
      " [ 7409.09  8059.68]\n",
      " [48838.78 48970.25]\n",
      " [14940.99 12979.36]\n",
      " [10339.3  20630.28]\n",
      " [15372.98 14571.89]\n",
      " [ 3877.05  4137.52]\n",
      " [ 8320.09  8347.16]\n",
      " [37695.22 51194.56]\n",
      " [40541.99 40003.33]\n",
      " [ 3984.62  1880.49]\n",
      " [11083.67  5458.05]\n",
      " [ 2925.14  2867.12]\n",
      " [20751.02 20149.32]\n",
      " [48132.78 47496.49]\n",
      " [37212.77 36149.48]\n",
      " [ 7664.52 26018.95]\n",
      " [14072.07 19749.38]\n",
      " [ 6710.8   6940.91]\n",
      " [ 8143.17  4718.2 ]\n",
      " [11818.38 22192.44]\n",
      " [ 2670.03  2899.49]\n",
      " [15474.67 18838.7 ]\n",
      " [26572.52 23568.27]\n",
      " [46349.37 46255.11]\n",
      " [11732.33 24227.34]\n",
      " [ 5732.2   3268.85]\n",
      " [ 6841.18  2322.62]\n",
      " [13448.23  8827.21]\n",
      " [ 8781.15 14478.33]\n",
      " [23491.93 13112.6 ]\n",
      " [ 1299.17  1253.94]\n",
      " [45605.27 46718.16]\n",
      " [19209.33 13919.82]\n",
      " [ 9991.05  9630.4 ]\n",
      " [13207.68 10736.87]\n",
      " [ 9694.28  9880.07]\n",
      " [33931.28 32548.34]\n",
      " [48627.07 38746.36]\n",
      " [ 8375.23  3180.51]\n",
      " [ 9929.28  8162.72]\n",
      " [15983.11 13041.92]\n",
      " [11391.36 11554.22]\n",
      " [18307.54 16232.85]\n",
      " [13674.72 13887.97]\n",
      " [12920.36 13012.21]\n",
      " [17481.03 13217.09]\n",
      " [ 9341.49  7147.1 ]\n",
      " [13771.64  7731.43]\n",
      " [19714.23 20296.86]\n",
      " [48158.9  47403.88]\n",
      " [11560.03 11658.38]\n",
      " [46358.45 45863.21]\n",
      " [ 1929.71  2055.32]\n",
      " [ 9661.76  7441.05]\n",
      " [39984.51 41034.22]\n",
      " [19426.7  18972.49]\n",
      " [ 3325.53  3410.32]\n",
      " [ 4091.2   2699.57]\n",
      " [24333.   12333.83]\n",
      " [37709.47 36837.47]\n",
      " [17631.93  6334.34]\n",
      " [14418.79 10214.64]\n",
      " [ 2921.5  17878.9 ]\n",
      " [16528.86  8515.76]\n",
      " [10073.57  4518.83]\n",
      " [10143.2   5148.55]\n",
      " [42884.8  42303.69]\n",
      " [47819.25 38998.55]\n",
      " [ 6673.57  5327.4 ]\n",
      " [10736.01 10602.39]\n",
      " [ 3369.34  1824.29]\n",
      " [ 7641.82  5377.46]\n",
      " [ 7808.61  4349.46]\n",
      " [38564.55 37742.58]\n",
      " [27207.92 32787.46]\n",
      " [ 3520.27  3353.47]\n",
      " [11036.05 10577.09]\n",
      " [ 6436.6   3556.92]\n",
      " [11458.48 11944.59]\n",
      " [46282.15 52590.83]\n",
      " [13734.5  12475.35]\n",
      " [ 9032.09  4266.17]\n",
      " [ 9308.32  9249.5 ]\n",
      " [34464.42 33732.69]\n",
      " [48097.15 48675.52]\n",
      " [ 7640.87  7729.65]\n",
      " [ 2935.88  1964.78]\n",
      " [15561.03  8444.47]\n",
      " [22580.4  12347.17]\n",
      " [12998.34  9301.89]\n",
      " [42486.22 42124.52]\n",
      " [15280.54  9991.04]\n",
      " [13838.38 14319.03]\n",
      " [13095.56  5428.73]\n",
      " [11295.26  7626.99]\n",
      " [ 4785.21  4906.41]\n",
      " [26317.05 23401.31]\n",
      " [25605.3  21098.55]\n",
      " [48857.03 48173.36]\n",
      " [ 1735.26  1917.32]\n",
      " [12963.54  8219.2 ]\n",
      " [ 1613.67  1725.55]\n",
      " [ 6081.92  5976.83]\n",
      " [12984.93  9361.33]\n",
      " [40075.5  22144.03]\n",
      " [38199.07 35491.64]\n",
      " [25402.38 19515.54]\n",
      " [12114.05 10107.22]\n",
      " [24339.68 23244.79]\n",
      " [ 2495.91  2789.06]\n",
      " [ 2181.59  2261.57]\n",
      " [12143.72 10594.5 ]\n",
      " [ 9032.47  9304.7 ]\n",
      " [10490.9  10435.07]\n",
      " [ 5186.25  4894.75]\n",
      " [13865.68 14313.85]\n",
      " [18820.98 28287.9 ]\n",
      " [ 3861.31 14426.07]\n",
      " [ 1628.58  1627.28]\n",
      " [10826.32 25517.11]\n",
      " [ 6984.91  6555.07]\n",
      " [38473.19 39611.76]\n",
      " [12804.84  9964.06]\n",
      " [ 7218.64  1720.35]\n",
      " [ 2550.66  2730.11]\n",
      " [ 8079.75  6500.24]\n",
      " [ 2655.03  2643.27]\n",
      " [ 3305.02  1719.44]\n",
      " [14349.77 11085.59]\n",
      " [10660.18 10115.01]\n",
      " [ 9733.54  4846.92]\n",
      " [13206.62 12982.87]\n",
      " [14087.63 28923.14]\n",
      " [ 8969.53  9391.35]\n",
      " [ 6663.33  4544.23]\n",
      " [ 9355.75 17128.43]\n",
      " [16148.79 13844.51]\n",
      " [12347.9   6113.23]\n",
      " [ 4394.37  4441.21]\n",
      " [ 1731.52  1633.96]\n",
      " [11723.09  4058.71]\n",
      " [ 5986.47  4435.09]\n",
      " [12413.79  8310.84]\n",
      " [ 2133.44  1986.93]\n",
      " [ 8552.29  4260.74]\n",
      " [ 5230.74  4504.66]\n",
      " [ 8210.62  4428.89]\n",
      " [ 6314.74  6117.49]\n",
      " [28705.62 30184.94]\n",
      " [ 1739.17  1708.93]\n",
      " [16590.28 11187.66]\n",
      " [ 6378.7   6796.86]\n",
      " [11609.95 11356.66]\n",
      " [ 5989.5   2498.41]\n",
      " [ 6284.64 27375.9 ]\n",
      " [27726.98 28101.33]\n",
      " [ 1950.3   2254.8 ]\n",
      " [ 2243.72  2597.78]\n",
      " [13963.36 14692.67]\n",
      " [14454.64 10370.91]\n",
      " [41404.84 41097.16]\n",
      " [ 4073.46  3981.98]\n",
      " [ 5117.53  5472.45]\n",
      " [25359.71 21223.68]\n",
      " [ 2484.19  2534.39]\n",
      " [ 4142.02  1972.95]\n",
      " [ 7629.15  6406.41]\n",
      " [17217.78  6551.75]\n",
      " [ 5812.61  4058.12]\n",
      " [ 5154.15  4243.59]\n",
      " [13273.84 11512.41]\n",
      " [46260.97 46889.26]\n",
      " [14436.21 12268.63]\n",
      " [18958.37 19199.94]\n",
      " [ 7331.1   4433.39]\n",
      " [43320.5  42969.85]\n",
      " [ 7676.3  23241.47]\n",
      " [13008.1   9140.95]\n",
      " [ 5887.91  5836.52]\n",
      " [ 1145.73  1149.4 ]\n",
      " [ 8934.27  8765.25]\n",
      " [13600.48 14043.48]\n",
      " [ 4809.76  5312.17]\n",
      " [ 4887.56 10795.94]\n",
      " [ 6667.64  6282.23]\n",
      " [ 6621.75  1969.61]\n",
      " [ 6952.02  6746.74]\n",
      " [ 8420.98  5354.07]\n",
      " [16011.84 14001.29]\n",
      " [ 8317.15  6877.98]\n",
      " [ 7898.41  6196.45]\n",
      " [ 7918.99  7986.48]\n",
      " [13130.97  8277.52]\n",
      " [ 7516.61  3206.49]\n",
      " [12910.47 11848.14]\n",
      " [13691.53 14210.54]\n",
      " [18382.68 12265.51]\n",
      " [11751.24 11837.16]\n",
      " [ 7435.    6652.53]\n",
      " [ 2562.32  2137.65]\n",
      " [ 6770.48  1131.51]\n",
      " [ 8434.31  8342.91]\n",
      " [14021.65 12244.53]\n",
      " [ 7686.28  4561.19]\n",
      " [ 4371.13 17626.24]\n",
      " [ 7070.5   6875.96]\n",
      " [17700.72  9447.38]\n",
      " [34281.09 34254.05]\n",
      " [ 6312.46  6067.13]\n",
      " [12957.74 11729.68]\n",
      " [ 5857.91  5383.54]\n",
      " [36416.01 37465.34]\n",
      " [ 7129.49  7371.77]\n",
      " [ 7585.98  7325.05]\n",
      " [12645.65  8410.05]\n",
      " [ 9941.84 10461.98]\n",
      " [ 3580.    3279.87]\n",
      " [ 7822.9   7727.25]\n",
      " [ 2446.21  2731.91]\n",
      " [ 8261.39  6858.48]\n",
      " [18987.68 19521.97]\n",
      " [46275.36 47305.31]\n",
      " [ 4000.87  3987.93]\n",
      " [ 6118.53  3238.44]\n",
      " [ 4944.41  7323.73]\n",
      " [ 1704.66  1704.57]\n",
      " [ 7998.01  7445.92]\n",
      " [ 3131.72  1629.83]\n",
      " [ 6782.78  4877.98]\n",
      " [ 6954.75  3561.89]\n",
      " [ 8559.86  8605.36]\n",
      " [24531.17 24520.26]\n",
      " [45620.72 45710.21]\n",
      " [16423.35 15019.76]\n",
      " [ 6745.49  6664.69]\n",
      " [11399.09 20709.02]\n",
      " [45821.54 40932.43]\n",
      " [ 9028.85  9500.57]]\n"
     ]
    }
   ],
   "source": [
    "y_pred = regressor.predict(X_test)\n",
    "np.set_printoptions(precision=2)\n",
    "print(np.concatenate((y_pred.reshape(len(y_pred),1), y_test.reshape(len(y_test),1)),1))"
   ]
  },
  {
   "cell_type": "markdown",
   "metadata": {
    "colab_type": "text",
    "id": "Cd8VZM5POWXN"
   },
   "source": [
    "## Evaluating the Model Performance"
   ]
  },
  {
   "cell_type": "code",
   "execution_count": 7,
   "metadata": {
    "colab": {},
    "colab_type": "code",
    "id": "a7y1rXlfOZJo"
   },
   "outputs": [
    {
     "data": {
      "text/plain": [
       "0.8624549417996137"
      ]
     },
     "execution_count": 7,
     "metadata": {},
     "output_type": "execute_result"
    }
   ],
   "source": [
    "from sklearn.metrics import r2_score\n",
    "r2_score(y_test, y_pred)"
   ]
  },
  {
   "cell_type": "code",
   "execution_count": 8,
   "metadata": {},
   "outputs": [
    {
     "name": "stdout",
     "output_type": "stream",
     "text": [
      "          Gini-importance\n",
      "age              0.004243\n",
      "sex              0.003466\n",
      "bmi              0.543892\n",
      "children         0.057891\n",
      "smoker           0.005014\n",
      "region           0.005510\n",
      "charges          0.004051\n"
     ]
    },
    {
     "data": {
      "image/png": "[encoded data removed]",
      "text/plain": [
       "<Figure size 432x288 with 1 Axes>"
      ]
     },
     "metadata": {
      "needs_background": "light"
     },
     "output_type": "display_data"
    }
   ],
   "source": [
    "feats = {} # a dict to hold feature_name: feature_importance\n",
    "for feature, importance in zip(dataset.columns, regressor.feature_importances_):\n",
    "    feats[feature] = importance #add the name/value pair \n",
    "\n",
    "importances = pd.DataFrame.from_dict(feats, orient='index').rename(columns={0: 'Gini-importance'})\n",
    "importances.sort_values(by='Gini-importance').plot(kind='bar', rot=45)\n",
    "print(importances)"
   ]
  },
  {
   "cell_type": "code",
   "execution_count": 9,
   "metadata": {},
   "outputs": [],
   "source": [
    "# import seaborn as sns\n",
    "# sns.heatmap(dataset.corr(),cmap='magma')"
   ]
  },
  {
   "cell_type": "code",
   "execution_count": 10,
   "metadata": {},
   "outputs": [],
   "source": [
    "# inputs = [90, 'male', 23, 2, 'yes', 'northwest']\n",
    "# regressor.predict(ct.transform([inputs]))"
   ]
  },
  {
   "cell_type": "code",
   "execution_count": 14,
   "metadata": {},
   "outputs": [
    {
     "name": "stdout",
     "output_type": "stream",
     "text": [
      "How old are you? 22\n",
      "What is your gender? (male/female)male\n",
      "What is your bmi?22\n",
      "How many children are covered under your plan?2\n",
      "Do you smoke? (yes/no)no\n",
      "What region of the US do you currently live in?northwest\n",
      "The predicted value for the inputs: \n",
      "          age: 22.0 \n",
      "          gender: male\n",
      "          bmi: 22\n",
      "          number of children: 2\n",
      "          smoker: no\n",
      "          region: northwest\n",
      "          is: $3467.64703\n"
     ]
    }
   ],
   "source": [
    "def predict():\n",
    "    user_inputs = []\n",
    "    age = float(input(\"How old are you? \"))\n",
    "    user_inputs.append(age)\n",
    "    gender = input(\"What is your gender? (male/female)\").lower()\n",
    "    user_inputs.append(gender)\n",
    "    bmi = input(\"What is your bmi?\")\n",
    "    user_inputs.append(bmi)\n",
    "    children = input(\"How many children are covered under your plan?\")\n",
    "    user_inputs.append(children)\n",
    "    smoker = input(\"Do you smoke? (yes/no)\")\n",
    "    user_inputs.append(smoker)\n",
    "    region = input(\"What region of the US do you currently live in?\")\n",
    "    user_inputs.append(region)\n",
    "    \n",
    "    predicted_value = regressor.predict(ct.transform([user_inputs]))\n",
    "    \n",
    "    print(f'''The predicted value for the inputs: \n",
    "          age: {user_inputs[0]} \n",
    "          gender: {user_inputs[1]}\n",
    "          bmi: {user_inputs[2]}\n",
    "          number of children: {user_inputs[3]}\n",
    "          smoker: {user_inputs[4]}\n",
    "          region: {user_inputs[5]}\n",
    "          is: ${predicted_value[0]}''')\n",
    "\n",
    "predict()"
   ]
  },
  {
   "cell_type": "code",
   "execution_count": null,
   "metadata": {},
   "outputs": [],
   "source": []
  }
 ],
 "metadata": {
  "colab": {
   "collapsed_sections": [],
   "name": "random_forest_regression.ipynb",
   "provenance": [],
   "toc_visible": true
  },
  "kernelspec": {
   "display_name": "Python 3",
   "language": "python",
   "name": "python3"
  },
  "language_info": {
   "codemirror_mode": {
    "name": "ipython",
    "version": 3
   },
   "file_extension": ".py",
   "mimetype": "text/x-python",
   "name": "python",
   "nbconvert_exporter": "python",
   "pygments_lexer": "ipython3",
   "version": "3.8.5"
  }
 },
 "nbformat": 4,
 "nbformat_minor": 1
}
