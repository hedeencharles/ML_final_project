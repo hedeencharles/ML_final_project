{
 "cells": [
  {
   "cell_type": "markdown",
   "metadata": {
    "colab_type": "text",
    "id": "m3PAEPRDRLA3"
   },
   "source": [
    "# Support Vector Regression (SVR)"
   ]
  },
  {
   "cell_type": "markdown",
   "metadata": {
    "colab_type": "text",
    "id": "0VCUAVIjRdzZ"
   },
   "source": [
    "## Importing the libraries"
   ]
  },
  {
   "cell_type": "code",
   "execution_count": 1,
   "metadata": {
    "colab": {},
    "colab_type": "code",
    "id": "56oRF-QfSDzC"
   },
   "outputs": [],
   "source": [
    "import numpy as np\n",
    "import matplotlib.pyplot as plt\n",
    "import pandas as pd"
   ]
  },
  {
   "cell_type": "markdown",
   "metadata": {
    "colab_type": "text",
    "id": "fXVXoFWtSF4_"
   },
   "source": [
    "## Importing the dataset"
   ]
  },
  {
   "cell_type": "code",
   "execution_count": 2,
   "metadata": {
    "colab": {},
    "colab_type": "code",
    "id": "xfoa8OSORfHQ"
   },
   "outputs": [
    {
     "data": {
      "text/plain": [
       "array([[19, 'female', 27.9, 0, 'yes', 'southwest'],\n",
       "       [18, 'male', 33.77, 1, 'no', 'southeast'],\n",
       "       [28, 'male', 33.0, 3, 'no', 'southeast'],\n",
       "       ...,\n",
       "       [18, 'female', 36.85, 0, 'no', 'southeast'],\n",
       "       [21, 'female', 25.8, 0, 'no', 'southwest'],\n",
       "       [61, 'female', 29.07, 0, 'yes', 'northwest']], dtype=object)"
      ]
     },
     "execution_count": 2,
     "metadata": {},
     "output_type": "execute_result"
    }
   ],
   "source": [
    "dataset = pd.read_csv('../../Datasets/insurance.csv')\n",
    "X = dataset.iloc[:, :-1].values\n",
    "y = dataset.iloc[:, -1].values\n",
    "X"
   ]
  },
  {
   "cell_type": "code",
   "execution_count": 3,
   "metadata": {
    "colab": {},
    "colab_type": "code",
    "id": "_8Ny1GfPiV3m"
   },
   "outputs": [],
   "source": [
    "y = y.reshape(len(y),1)"
   ]
  },
  {
   "cell_type": "code",
   "execution_count": 4,
   "metadata": {},
   "outputs": [
    {
     "name": "stdout",
     "output_type": "stream",
     "text": [
      "[[1.0 0.0 0.0 ... 19 27.9 0]\n",
      " [0.0 1.0 1.0 ... 18 33.77 1]\n",
      " [0.0 1.0 1.0 ... 28 33.0 3]\n",
      " ...\n",
      " [1.0 0.0 1.0 ... 18 36.85 0]\n",
      " [1.0 0.0 1.0 ... 21 25.8 0]\n",
      " [1.0 0.0 0.0 ... 61 29.07 0]]\n"
     ]
    }
   ],
   "source": [
    "# One hot encoding: turn string column into 3 different columns (countries), for 3 different categories\n",
    "# Bindary vector: each country to a certain order of the columns\n",
    "\n",
    "# Coding independent variable\n",
    "from sklearn.compose import ColumnTransformer\n",
    "from sklearn.preprocessing import OneHotEncoder\n",
    "\n",
    "# Create object of the column transformer class\n",
    "# [0] is the index of column to apply OneHotEncoding\n",
    "ct = ColumnTransformer(transformers=[('encoder', OneHotEncoder(), [1,4,5])], remainder='passthrough')\n",
    "\n",
    "# Apply the transform method to change the column X\n",
    "X = np.array(ct.fit_transform(X))\n",
    "\n",
    "print(X)"
   ]
  },
  {
   "cell_type": "markdown",
   "metadata": {
    "colab_type": "text",
    "id": "6Vk3nNlrCVCN"
   },
   "source": [
    "## Splitting the dataset into the Training set and Test set"
   ]
  },
  {
   "cell_type": "code",
   "execution_count": 5,
   "metadata": {
    "colab": {},
    "colab_type": "code",
    "id": "x_fXqrziCV3_"
   },
   "outputs": [],
   "source": [
    "from sklearn.model_selection import train_test_split\n",
    "X_train, X_test, y_train, y_test = train_test_split(X, y, test_size = 0.2, random_state = 0)"
   ]
  },
  {
   "cell_type": "markdown",
   "metadata": {
    "colab_type": "text",
    "id": "YS8FeLHYS-nI"
   },
   "source": [
    "## Feature Scaling"
   ]
  },
  {
   "cell_type": "code",
   "execution_count": 6,
   "metadata": {
    "colab": {},
    "colab_type": "code",
    "id": "PGeAlD1HTDI1"
   },
   "outputs": [],
   "source": [
    "from sklearn.preprocessing import StandardScaler\n",
    "sc_X = StandardScaler()\n",
    "sc_y = StandardScaler()\n",
    "X_train = sc_X.fit_transform(X_train)\n",
    "y_train = sc_y.fit_transform(y_train)"
   ]
  },
  {
   "cell_type": "markdown",
   "metadata": {
    "colab_type": "text",
    "id": "eiU6D2QFRjxY"
   },
   "source": [
    "## Training the SVR model on the Training set"
   ]
  },
  {
   "cell_type": "code",
   "execution_count": 7,
   "metadata": {
    "colab": {},
    "colab_type": "code",
    "id": "y6R4rt_GRz15"
   },
   "outputs": [
    {
     "name": "stderr",
     "output_type": "stream",
     "text": [
      "/usr/local/lib/python3.7/site-packages/sklearn/utils/validation.py:72: DataConversionWarning: A column-vector y was passed when a 1d array was expected. Please change the shape of y to (n_samples, ), for example using ravel().\n",
      "  return f(**kwargs)\n"
     ]
    },
    {
     "data": {
      "text/plain": [
       "SVR(C=1, gamma=0.1)"
      ]
     },
     "execution_count": 7,
     "metadata": {},
     "output_type": "execute_result"
    }
   ],
   "source": [
    "from sklearn.svm import SVR\n",
    "regressor = SVR(C=1, gamma=0.1, kernel='rbf')\n",
    "regressor.fit(X_train, y_train)"
   ]
  },
  {
   "cell_type": "markdown",
   "metadata": {
    "colab_type": "text",
    "id": "aPYA5W1pDBOE"
   },
   "source": [
    "## Predicting the Test set results"
   ]
  },
  {
   "cell_type": "code",
   "execution_count": 8,
   "metadata": {
    "colab": {},
    "colab_type": "code",
    "id": "vSqFVDYrDROW"
   },
   "outputs": [
    {
     "name": "stdout",
     "output_type": "stream",
     "text": [
      "[[10891.15  9724.53]\n",
      " [ 9586.05  8547.69]\n",
      " [47825.31 45702.02]\n",
      " [13632.13 12950.07]\n",
      " [11196.61  9644.25]\n",
      " [ 5094.72  4500.34]\n",
      " [ 3379.69  2198.19]\n",
      " [12575.45 11436.74]\n",
      " [ 8538.01  7537.16]\n",
      " [ 6530.72  5425.02]\n",
      " [ 8268.25  6753.04]\n",
      " [11639.33 10493.95]\n",
      " [ 8454.5   7337.75]\n",
      " [ 5270.3   4185.1 ]\n",
      " [22042.06 18310.74]\n",
      " [12028.55 10702.64]\n",
      " [13440.77 12523.6 ]\n",
      " [ 4694.08  3490.55]\n",
      " [ 7592.39  6457.84]\n",
      " [25693.62 33475.82]\n",
      " [23256.56 23967.38]\n",
      " [13809.11 12643.38]\n",
      " [11388.62 23045.57]\n",
      " [27979.3  23065.42]\n",
      " [ 2738.55  1674.63]\n",
      " [ 6040.61  4667.61]\n",
      " [ 5254.27  3732.63]\n",
      " [ 8784.67  7682.67]\n",
      " [ 4753.47  3756.62]\n",
      " [ 9699.56  8413.46]\n",
      " [ 9038.66  8059.68]\n",
      " [49709.91 48970.25]\n",
      " [13794.93 12979.36]\n",
      " [11359.25 20630.28]\n",
      " [14880.   14571.89]\n",
      " [ 5243.32  4137.52]\n",
      " [ 9454.11  8347.16]\n",
      " [40162.4  51194.56]\n",
      " [38847.44 40003.33]\n",
      " [ 3005.    1880.49]\n",
      " [ 6789.12  5458.05]\n",
      " [ 3688.99  2867.12]\n",
      " [24294.93 20149.32]\n",
      " [46291.98 47496.49]\n",
      " [33790.39 36149.48]\n",
      " [ 4796.8  26018.95]\n",
      " [12013.08 19749.38]\n",
      " [ 8063.24  6940.91]\n",
      " [ 5793.49  4718.2 ]\n",
      " [13021.36 22192.44]\n",
      " [ 3906.2   2899.49]\n",
      " [ 5340.44 18838.7 ]\n",
      " [30728.03 23568.27]\n",
      " [42930.66 46255.11]\n",
      " [12972.09 24227.34]\n",
      " [ 4783.66  3268.85]\n",
      " [ 3356.95  2322.62]\n",
      " [10055.31  8827.21]\n",
      " [10335.4  14478.33]\n",
      " [14226.95 13112.6 ]\n",
      " [ 2382.66  1253.94]\n",
      " [37899.64 46718.16]\n",
      " [14886.73 13919.82]\n",
      " [10904.9   9630.4 ]\n",
      " [12693.48 10736.87]\n",
      " [10873.41  9880.07]\n",
      " [23433.91 32548.34]\n",
      " [33596.78 38746.36]\n",
      " [ 4360.57  3180.51]\n",
      " [ 8986.25  8162.72]\n",
      " [13769.49 13041.92]\n",
      " [12618.74 11554.22]\n",
      " [21572.74 16232.85]\n",
      " [14634.32 13887.97]\n",
      " [13730.88 13012.21]\n",
      " [13785.33 13217.09]\n",
      " [ 8318.65  7147.1 ]\n",
      " [ 8991.32  7731.43]\n",
      " [24411.99 20296.86]\n",
      " [46537.22 47403.88]\n",
      " [12595.71 11658.38]\n",
      " [46300.35 45863.21]\n",
      " [ 3186.28  2055.32]\n",
      " [ 8632.79  7441.05]\n",
      " [42743.11 41034.22]\n",
      " [21096.1  18972.49]\n",
      " [ 3970.59  3410.32]\n",
      " [ 3719.21  2699.57]\n",
      " [13085.72 12333.83]\n",
      " [38952.98 36837.47]\n",
      " [ 7673.72  6334.34]\n",
      " [11350.9  10214.64]\n",
      " [ 4222.82 17878.9 ]\n",
      " [ 9625.9   8515.76]\n",
      " [ 5815.25  4518.83]\n",
      " [ 6206.91  5148.55]\n",
      " [36982.23 42303.69]\n",
      " [32611.96 38998.55]\n",
      " [ 6358.21  5327.4 ]\n",
      " [11676.89 10602.39]\n",
      " [ 2839.41  1824.29]\n",
      " [ 6359.95  5377.46]\n",
      " [ 5187.17  4349.46]\n",
      " [35983.15 37742.58]\n",
      " [27140.97 32787.46]\n",
      " [ 4363.93  3353.47]\n",
      " [11399.98 10577.09]\n",
      " [ 4428.63  3556.92]\n",
      " [12738.28 11944.59]\n",
      " [42081.37 52590.83]\n",
      " [12993.5  12475.35]\n",
      " [ 5291.83  4266.17]\n",
      " [10442.78  9249.5 ]\n",
      " [26834.72 33732.69]\n",
      " [49610.59 48675.52]\n",
      " [ 8584.74  7729.65]\n",
      " [ 2961.14  1964.78]\n",
      " [ 9646.35  8444.47]\n",
      " [13386.51 12347.17]\n",
      " [10325.13  9301.89]\n",
      " [40471.94 42124.52]\n",
      " [11485.15  9991.04]\n",
      " [15058.32 14319.03]\n",
      " [ 7883.57  5428.73]\n",
      " [ 8802.24  7626.99]\n",
      " [ 5800.26  4906.41]\n",
      " [27760.99 23401.31]\n",
      " [18022.9  21098.55]\n",
      " [47334.28 48173.36]\n",
      " [ 3272.86  1917.32]\n",
      " [ 9332.83  8219.2 ]\n",
      " [ 2882.21  1725.55]\n",
      " [ 6784.26  5976.83]\n",
      " [10568.68  9361.33]\n",
      " [33847.9  22144.03]\n",
      " [32711.09 35491.64]\n",
      " [21149.66 19515.54]\n",
      " [11241.79 10107.22]\n",
      " [22603.27 23244.79]\n",
      " [ 3710.02  2789.06]\n",
      " [ 3284.96  2261.57]\n",
      " [11768.21 10594.5 ]\n",
      " [10457.26  9304.7 ]\n",
      " [11527.8  10435.07]\n",
      " [ 5775.93  4894.75]\n",
      " [14967.47 14313.85]\n",
      " [13865.39 28287.9 ]\n",
      " [ 4833.99 14426.07]\n",
      " [ 2693.01  1627.28]\n",
      " [12062.94 25517.11]\n",
      " [ 7707.46  6555.07]\n",
      " [41222.59 39611.76]\n",
      " [11145.95  9964.06]\n",
      " [ 2725.62  1720.35]\n",
      " [ 3818.91  2730.11]\n",
      " [ 7359.65  6500.24]\n",
      " [ 3730.97  2643.27]\n",
      " [ 2700.29  1719.44]\n",
      " [12032.24 11085.59]\n",
      " [11243.38 10115.01]\n",
      " [ 6242.12  4846.92]\n",
      " [13575.08 12982.87]\n",
      " [13694.51 28923.14]\n",
      " [10390.55  9391.35]\n",
      " [ 5770.34  4544.23]\n",
      " [ 6619.68 17128.43]\n",
      " [15763.34 13844.51]\n",
      " [ 7536.38  6113.23]\n",
      " [ 5067.53  4441.21]\n",
      " [ 2841.08  1633.96]\n",
      " [ 5304.1   4058.71]\n",
      " [ 5081.87  4435.09]\n",
      " [ 9525.89  8310.84]\n",
      " [ 3038.24  1986.93]\n",
      " [ 5219.77  4260.74]\n",
      " [ 5832.78  4504.66]\n",
      " [ 4846.79  4428.89]\n",
      " [ 7085.19  6117.49]\n",
      " [36617.16 30184.94]\n",
      " [ 2575.73  1708.93]\n",
      " [12441.07 11187.66]\n",
      " [ 7825.7   6796.86]\n",
      " [12377.83 11356.66]\n",
      " [ 3512.31  2498.41]\n",
      " [ 6191.54 27375.9 ]\n",
      " [31654.53 28101.33]\n",
      " [ 3698.01  2254.8 ]\n",
      " [ 3529.48  2597.78]\n",
      " [14906.28 14692.67]\n",
      " [11580.46 10370.91]\n",
      " [37794.51 41097.16]\n",
      " [ 4831.63  3981.98]\n",
      " [ 6511.94  5472.45]\n",
      " [23302.26 21223.68]\n",
      " [ 3683.53  2534.39]\n",
      " [ 2953.15  1972.95]\n",
      " [ 7476.8   6406.41]\n",
      " [ 7877.9   6551.75]\n",
      " [ 5265.71  4058.12]\n",
      " [ 5161.24  4243.59]\n",
      " [12696.23 11512.41]\n",
      " [43553.22 46889.26]\n",
      " [13461.02 12268.63]\n",
      " [19617.46 19199.94]\n",
      " [ 5598.04  4433.39]\n",
      " [44111.25 42969.85]\n",
      " [ 4383.43 23241.47]\n",
      " [10416.95  9140.95]\n",
      " [ 6660.78  5836.52]\n",
      " [ 2224.    1149.4 ]\n",
      " [ 9995.06  8765.25]\n",
      " [14619.05 14043.48]\n",
      " [ 6291.61  5312.17]\n",
      " [ 3341.71 10795.94]\n",
      " [ 7429.74  6282.23]\n",
      " [ 2910.25  1969.61]\n",
      " [ 7343.2   6746.74]\n",
      " [ 6441.44  5354.07]\n",
      " [15210.74 14001.29]\n",
      " [ 8312.07  6877.98]\n",
      " [ 6678.58  6196.45]\n",
      " [ 9004.3   7986.48]\n",
      " [ 9514.45  8277.52]\n",
      " [ 4278.73  3206.49]\n",
      " [12887.96 11848.14]\n",
      " [14611.29 14210.54]\n",
      " [13546.1  12265.51]\n",
      " [12698.57 11837.16]\n",
      " [ 8449.91  6652.53]\n",
      " [ 2949.23  2137.65]\n",
      " [ 2197.3   1131.51]\n",
      " [ 9401.96  8342.91]\n",
      " [13266.47 12244.53]\n",
      " [ 7362.11  4561.19]\n",
      " [ 5314.77 17626.24]\n",
      " [ 8052.75  6875.96]\n",
      " [10582.52  9447.38]\n",
      " [27607.3  34254.05]\n",
      " [ 6953.21  6067.13]\n",
      " [12302.24 11729.68]\n",
      " [ 6548.38  5383.54]\n",
      " [30892.59 37465.34]\n",
      " [ 8076.95  7371.77]\n",
      " [ 8548.27  7325.05]\n",
      " [ 9467.12  8410.05]\n",
      " [11760.19 10461.98]\n",
      " [ 3888.56  3279.87]\n",
      " [ 8840.15  7727.25]\n",
      " [ 3828.75  2731.91]\n",
      " [ 7628.48  6858.48]\n",
      " [24157.56 19521.97]\n",
      " [42088.67 47305.31]\n",
      " [ 4686.95  3987.93]\n",
      " [ 3897.5   3238.44]\n",
      " [ 3398.02  7323.73]\n",
      " [ 2274.93  1704.57]\n",
      " [ 8586.2   7445.92]\n",
      " [ 2809.98  1629.83]\n",
      " [ 6106.27  4877.98]\n",
      " [ 4306.92  3561.89]\n",
      " [10373.15  8605.36]\n",
      " [32244.93 24520.26]\n",
      " [39779.44 45710.21]\n",
      " [15683.06 15019.76]\n",
      " [ 7779.54  6664.69]\n",
      " [11984.3  20709.02]\n",
      " [38408.33 40932.43]\n",
      " [ 9987.26  9500.57]]\n"
     ]
    }
   ],
   "source": [
    "y_pred = sc_y.inverse_transform(regressor.predict(sc_X.transform(X_test)))\n",
    "np.set_printoptions(precision=2)\n",
    "print(np.concatenate((y_pred.reshape(len(y_pred),1), y_test.reshape(len(y_test),1)),1))"
   ]
  },
  {
   "cell_type": "markdown",
   "metadata": {
    "colab_type": "text",
    "id": "CMsYlps2DX1d"
   },
   "source": [
    "## Evaluating the Model Performance"
   ]
  },
  {
   "cell_type": "code",
   "execution_count": 9,
   "metadata": {
    "colab": {},
    "colab_type": "code",
    "id": "HxsRWlURDr6S"
   },
   "outputs": [
    {
     "data": {
      "text/plain": [
       "0.8870768047142364"
      ]
     },
     "execution_count": 9,
     "metadata": {},
     "output_type": "execute_result"
    }
   ],
   "source": [
    "from sklearn.metrics import r2_score\n",
    "r2_score(y_test, y_pred)"
   ]
  },
  {
   "cell_type": "code",
   "execution_count": 10,
   "metadata": {},
   "outputs": [
    {
     "name": "stderr",
     "output_type": "stream",
     "text": [
      "/usr/local/lib/python3.7/site-packages/sklearn/utils/validation.py:72: DataConversionWarning: A column-vector y was passed when a 1d array was expected. Please change the shape of y to (n_samples, ), for example using ravel().\n",
      "  return f(**kwargs)\n",
      "/usr/local/lib/python3.7/site-packages/sklearn/utils/validation.py:72: DataConversionWarning: A column-vector y was passed when a 1d array was expected. Please change the shape of y to (n_samples, ), for example using ravel().\n",
      "  return f(**kwargs)\n",
      "/usr/local/lib/python3.7/site-packages/sklearn/utils/validation.py:72: DataConversionWarning: A column-vector y was passed when a 1d array was expected. Please change the shape of y to (n_samples, ), for example using ravel().\n",
      "  return f(**kwargs)\n",
      "/usr/local/lib/python3.7/site-packages/sklearn/utils/validation.py:72: DataConversionWarning: A column-vector y was passed when a 1d array was expected. Please change the shape of y to (n_samples, ), for example using ravel().\n",
      "  return f(**kwargs)\n",
      "/usr/local/lib/python3.7/site-packages/sklearn/utils/validation.py:72: DataConversionWarning: A column-vector y was passed when a 1d array was expected. Please change the shape of y to (n_samples, ), for example using ravel().\n",
      "  return f(**kwargs)\n",
      "/usr/local/lib/python3.7/site-packages/sklearn/utils/validation.py:72: DataConversionWarning: A column-vector y was passed when a 1d array was expected. Please change the shape of y to (n_samples, ), for example using ravel().\n",
      "  return f(**kwargs)\n",
      "/usr/local/lib/python3.7/site-packages/sklearn/utils/validation.py:72: DataConversionWarning: A column-vector y was passed when a 1d array was expected. Please change the shape of y to (n_samples, ), for example using ravel().\n",
      "  return f(**kwargs)\n",
      "/usr/local/lib/python3.7/site-packages/sklearn/utils/validation.py:72: DataConversionWarning: A column-vector y was passed when a 1d array was expected. Please change the shape of y to (n_samples, ), for example using ravel().\n",
      "  return f(**kwargs)\n",
      "/usr/local/lib/python3.7/site-packages/sklearn/utils/validation.py:72: DataConversionWarning: A column-vector y was passed when a 1d array was expected. Please change the shape of y to (n_samples, ), for example using ravel().\n",
      "  return f(**kwargs)\n",
      "/usr/local/lib/python3.7/site-packages/sklearn/utils/validation.py:72: DataConversionWarning: A column-vector y was passed when a 1d array was expected. Please change the shape of y to (n_samples, ), for example using ravel().\n",
      "  return f(**kwargs)\n"
     ]
    },
    {
     "name": "stdout",
     "output_type": "stream",
     "text": [
      "Accuracy: 82.21 %\n",
      "Standard Deviation: 4.86 %\n"
     ]
    }
   ],
   "source": [
    "# Apply k-fold cross validation\n",
    "\n",
    "from sklearn.model_selection import cross_val_score\n",
    "accuracies = cross_val_score(estimator = regressor, X = X_train, y = y_train, cv = 10)\n",
    "print(\"Accuracy: {:.2f} %\".format(accuracies.mean()*100))\n",
    "print(\"Standard Deviation: {:.2f} %\".format(accuracies.std()*100))"
   ]
  },
  {
   "cell_type": "code",
   "execution_count": 11,
   "metadata": {},
   "outputs": [
    {
     "name": "stdout",
     "output_type": "stream",
     "text": [
      "Best Accuracy: 82.21 %\n",
      "Best Parameters: {'C': 1, 'gamma': 0.1, 'kernel': 'rbf'}\n"
     ]
    },
    {
     "name": "stderr",
     "output_type": "stream",
     "text": [
      "/usr/local/lib/python3.7/site-packages/sklearn/utils/validation.py:72: DataConversionWarning: A column-vector y was passed when a 1d array was expected. Please change the shape of y to (n_samples, ), for example using ravel().\n",
      "  return f(**kwargs)\n"
     ]
    }
   ],
   "source": [
    "# Apply Grid Search to find best model and parameters\n",
    "\n",
    "from sklearn.model_selection import GridSearchCV\n",
    "parameters = [{'C': [0.25, 0.5, 0.75, 1], 'kernel': ['linear']},\n",
    "              {'C': [0.25, 0.5, 0.75, 1], 'kernel': ['rbf'], 'gamma': [0.1, 0.2, 0.3, 0.4, 0.5, 0.6, 0.7, 0.8, 0.9]},\n",
    "             {'C': [0.25, 0.5, 0.75, 1], 'kernel':['poly'], 'degree':[1,2,3,3,4,5,7,8,9,10]},\n",
    "             {'C': [0.25, 0.5, 0.75, 1], 'kernel':['sigmoid'], 'degree':[1,2,3,3,4,5,7,8,9,10]}]\n",
    "\n",
    "grid_search = GridSearchCV(estimator = regressor,\n",
    "                           param_grid = parameters,\n",
    "                           cv = 10,\n",
    "                           n_jobs = -1\n",
    "                          )\n",
    "grid_search.fit(X_train, y_train)\n",
    "best_accuracy = grid_search.best_score_\n",
    "best_parameters = grid_search.best_params_\n",
    "print(\"Best Accuracy: {:.2f} %\".format(best_accuracy*100))\n",
    "print(\"Best Parameters:\", best_parameters)"
   ]
  },
  {
   "cell_type": "code",
   "execution_count": null,
   "metadata": {},
   "outputs": [],
   "source": []
  }
 ],
 "metadata": {
  "colab": {
   "collapsed_sections": [],
   "name": "support_vector_regression.ipynb",
   "provenance": [],
   "toc_visible": true
  },
  "kernelspec": {
   "display_name": "Python 3",
   "language": "python",
   "name": "python3"
  },
  "language_info": {
   "codemirror_mode": {
    "name": "ipython",
    "version": 3
   },
   "file_extension": ".py",
   "mimetype": "text/x-python",
   "name": "python",
   "nbconvert_exporter": "python",
   "pygments_lexer": "ipython3",
   "version": "3.7.8"
  }
 },
 "nbformat": 4,
 "nbformat_minor": 1
}
