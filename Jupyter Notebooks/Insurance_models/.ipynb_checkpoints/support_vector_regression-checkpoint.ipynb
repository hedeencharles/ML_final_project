{
 "cells": [
  {
   "cell_type": "markdown",
   "metadata": {
    "colab_type": "text",
    "id": "m3PAEPRDRLA3"
   },
   "source": [
    "# Support Vector Regression (SVR)"
   ]
  },
  {
   "cell_type": "markdown",
   "metadata": {
    "colab_type": "text",
    "id": "0VCUAVIjRdzZ"
   },
   "source": [
    "## Importing the libraries"
   ]
  },
  {
   "cell_type": "code",
   "execution_count": 1,
   "metadata": {
    "colab": {},
    "colab_type": "code",
    "id": "56oRF-QfSDzC"
   },
   "outputs": [],
   "source": [
    "import numpy as np\n",
    "import matplotlib.pyplot as plt\n",
    "import pandas as pd"
   ]
  },
  {
   "cell_type": "markdown",
   "metadata": {
    "colab_type": "text",
    "id": "fXVXoFWtSF4_"
   },
   "source": [
    "## Importing the dataset"
   ]
  },
  {
   "cell_type": "code",
   "execution_count": 2,
   "metadata": {
    "colab": {},
    "colab_type": "code",
    "id": "xfoa8OSORfHQ"
   },
   "outputs": [
    {
     "data": {
      "text/plain": [
       "array([[19, 'female', 27.9, 0, 'yes', 'southwest'],\n",
       "       [18, 'male', 33.77, 1, 'no', 'southeast'],\n",
       "       [28, 'male', 33.0, 3, 'no', 'southeast'],\n",
       "       ...,\n",
       "       [18, 'female', 36.85, 0, 'no', 'southeast'],\n",
       "       [21, 'female', 25.8, 0, 'no', 'southwest'],\n",
       "       [61, 'female', 29.07, 0, 'yes', 'northwest']], dtype=object)"
      ]
     },
     "execution_count": 2,
     "metadata": {},
     "output_type": "execute_result"
    }
   ],
   "source": [
    "dataset = pd.read_csv('../../Datasets/insurance.csv')\n",
    "X = dataset.iloc[:, :-1].values\n",
    "y = dataset.iloc[:, -1].values\n",
    "X"
   ]
  },
  {
   "cell_type": "code",
   "execution_count": 3,
   "metadata": {
    "colab": {},
    "colab_type": "code",
    "id": "_8Ny1GfPiV3m"
   },
   "outputs": [],
   "source": [
    "y = y.reshape(len(y),1)"
   ]
  },
  {
   "cell_type": "code",
   "execution_count": 4,
   "metadata": {},
   "outputs": [
    {
     "name": "stdout",
     "output_type": "stream",
     "text": [
      "[[1.0 0.0 0.0 ... 19 27.9 0]\n",
      " [0.0 1.0 1.0 ... 18 33.77 1]\n",
      " [0.0 1.0 1.0 ... 28 33.0 3]\n",
      " ...\n",
      " [1.0 0.0 1.0 ... 18 36.85 0]\n",
      " [1.0 0.0 1.0 ... 21 25.8 0]\n",
      " [1.0 0.0 0.0 ... 61 29.07 0]]\n"
     ]
    }
   ],
   "source": [
    "# One hot encoding: turn string column into 3 different columns (countries), for 3 different categories\n",
    "# Bindary vector: each country to a certain order of the columns\n",
    "\n",
    "# Coding independent variable\n",
    "from sklearn.compose import ColumnTransformer\n",
    "from sklearn.preprocessing import OneHotEncoder\n",
    "\n",
    "# Create object of the column transformer class\n",
    "# [0] is the index of column to apply OneHotEncoding\n",
    "ct = ColumnTransformer(transformers=[('encoder', OneHotEncoder(), [1,4,5])], remainder='passthrough')\n",
    "\n",
    "# Apply the transform method to change the column X\n",
    "X = np.array(ct.fit_transform(X))\n",
    "\n",
    "print(X)"
   ]
  },
  {
   "cell_type": "markdown",
   "metadata": {
    "colab_type": "text",
    "id": "6Vk3nNlrCVCN"
   },
   "source": [
    "## Splitting the dataset into the Training set and Test set"
   ]
  },
  {
   "cell_type": "code",
   "execution_count": 5,
   "metadata": {
    "colab": {},
    "colab_type": "code",
    "id": "x_fXqrziCV3_"
   },
   "outputs": [],
   "source": [
    "from sklearn.model_selection import train_test_split\n",
    "X_train, X_test, y_train, y_test = train_test_split(X, y, test_size = 0.2, random_state = 0)"
   ]
  },
  {
   "cell_type": "markdown",
   "metadata": {
    "colab_type": "text",
    "id": "YS8FeLHYS-nI"
   },
   "source": [
    "## Feature Scaling"
   ]
  },
  {
   "cell_type": "code",
   "execution_count": 6,
   "metadata": {
    "colab": {},
    "colab_type": "code",
    "id": "PGeAlD1HTDI1"
   },
   "outputs": [],
   "source": [
    "from sklearn.preprocessing import StandardScaler\n",
    "sc_X = StandardScaler()\n",
    "sc_y = StandardScaler()\n",
    "X_train = sc_X.fit_transform(X_train)\n",
    "y_train = sc_y.fit_transform(y_train)"
   ]
  },
  {
   "cell_type": "markdown",
   "metadata": {
    "colab_type": "text",
    "id": "eiU6D2QFRjxY"
   },
   "source": [
    "## Training the SVR model on the Training set"
   ]
  },
  {
   "cell_type": "code",
   "execution_count": 7,
   "metadata": {
    "colab": {},
    "colab_type": "code",
    "id": "y6R4rt_GRz15"
   },
   "outputs": [
    {
     "name": "stderr",
     "output_type": "stream",
     "text": [
      "/Users/charleshedeen/opt/anaconda3/envs/DataScience/lib/python3.8/site-packages/sklearn/utils/validation.py:72: DataConversionWarning: A column-vector y was passed when a 1d array was expected. Please change the shape of y to (n_samples, ), for example using ravel().\n",
      "  return f(**kwargs)\n"
     ]
    },
    {
     "data": {
      "text/plain": [
       "SVR()"
      ]
     },
     "execution_count": 7,
     "metadata": {},
     "output_type": "execute_result"
    }
   ],
   "source": [
    "from sklearn.svm import SVR\n",
    "regressor = SVR(kernel = 'rbf')\n",
    "regressor.fit(X_train, y_train)"
   ]
  },
  {
   "cell_type": "markdown",
   "metadata": {
    "colab_type": "text",
    "id": "aPYA5W1pDBOE"
   },
   "source": [
    "## Predicting the Test set results"
   ]
  },
  {
   "cell_type": "code",
   "execution_count": 8,
   "metadata": {
    "colab": {},
    "colab_type": "code",
    "id": "vSqFVDYrDROW"
   },
   "outputs": [
    {
     "name": "stdout",
     "output_type": "stream",
     "text": [
      "[[10895.13  9724.53]\n",
      " [ 9612.78  8547.69]\n",
      " [47738.18 45702.02]\n",
      " [13664.09 12950.07]\n",
      " [11134.56  9644.25]\n",
      " [ 5175.91  4500.34]\n",
      " [ 3381.74  2198.19]\n",
      " [12553.38 11436.74]\n",
      " [ 8536.37  7537.16]\n",
      " [ 6509.44  5425.02]\n",
      " [ 8245.8   6753.04]\n",
      " [11623.6  10493.95]\n",
      " [ 8443.93  7337.75]\n",
      " [ 5246.66  4185.1 ]\n",
      " [22047.73 18310.74]\n",
      " [12042.47 10702.64]\n",
      " [13419.53 12523.6 ]\n",
      " [ 4670.84  3490.55]\n",
      " [ 7583.27  6457.84]\n",
      " [25762.14 33475.82]\n",
      " [23096.16 23967.38]\n",
      " [13808.53 12643.38]\n",
      " [11398.23 23045.57]\n",
      " [28063.87 23065.42]\n",
      " [ 2733.89  1674.63]\n",
      " [ 6012.2   4667.61]\n",
      " [ 5209.81  3732.63]\n",
      " [ 8817.72  7682.67]\n",
      " [ 4740.31  3756.62]\n",
      " [ 9691.89  8413.46]\n",
      " [ 9034.12  8059.68]\n",
      " [49814.18 48970.25]\n",
      " [13762.75 12979.36]\n",
      " [11346.66 20630.28]\n",
      " [14849.61 14571.89]\n",
      " [ 5237.19  4137.52]\n",
      " [ 9474.36  8347.16]\n",
      " [40058.76 51194.56]\n",
      " [38674.45 40003.33]\n",
      " [ 3022.48  1880.49]\n",
      " [ 6751.6   5458.05]\n",
      " [ 3714.45  2867.12]\n",
      " [24558.93 20149.32]\n",
      " [45995.64 47496.49]\n",
      " [33842.64 36149.48]\n",
      " [ 4781.49 26018.95]\n",
      " [12029.33 19749.38]\n",
      " [ 8042.07  6940.91]\n",
      " [ 5782.32  4718.2 ]\n",
      " [13064.49 22192.44]\n",
      " [ 3931.55  2899.49]\n",
      " [ 5301.21 18838.7 ]\n",
      " [30876.8  23568.27]\n",
      " [43058.61 46255.11]\n",
      " [12958.65 24227.34]\n",
      " [ 4748.18  3268.85]\n",
      " [ 3333.06  2322.62]\n",
      " [10027.4   8827.21]\n",
      " [10330.88 14478.33]\n",
      " [14179.55 13112.6 ]\n",
      " [ 2394.27  1253.94]\n",
      " [37383.52 46718.16]\n",
      " [14929.78 13919.82]\n",
      " [10902.94  9630.4 ]\n",
      " [12471.35 10736.87]\n",
      " [10895.1   9880.07]\n",
      " [23725.86 32548.34]\n",
      " [33684.46 38746.36]\n",
      " [ 4312.06  3180.51]\n",
      " [ 8951.43  8162.72]\n",
      " [13779.53 13041.92]\n",
      " [12619.07 11554.22]\n",
      " [21800.28 16232.85]\n",
      " [14666.31 13887.97]\n",
      " [13748.83 13012.21]\n",
      " [13831.95 13217.09]\n",
      " [ 8318.04  7147.1 ]\n",
      " [ 8996.97  7731.43]\n",
      " [24493.23 20296.86]\n",
      " [46792.29 47403.88]\n",
      " [12624.34 11658.38]\n",
      " [46500.76 45863.21]\n",
      " [ 3189.87  2055.32]\n",
      " [ 8627.85  7441.05]\n",
      " [42631.49 41034.22]\n",
      " [21337.02 18972.49]\n",
      " [ 3995.78  3410.32]\n",
      " [ 3713.71  2699.57]\n",
      " [13110.96 12333.83]\n",
      " [38896.2  36837.47]\n",
      " [ 7640.75  6334.34]\n",
      " [11357.5  10214.64]\n",
      " [ 4245.35 17878.9 ]\n",
      " [ 9652.72  8515.76]\n",
      " [ 5810.1   4518.83]\n",
      " [ 6203.48  5148.55]\n",
      " [37099.62 42303.69]\n",
      " [32704.6  38998.55]\n",
      " [ 6354.3   5327.4 ]\n",
      " [11641.92 10602.39]\n",
      " [ 2839.78  1824.29]\n",
      " [ 6368.86  5377.46]\n",
      " [ 5210.24  4349.46]\n",
      " [36203.31 37742.58]\n",
      " [26972.85 32787.46]\n",
      " [ 4368.63  3353.47]\n",
      " [11414.91 10577.09]\n",
      " [ 4450.3   3556.92]\n",
      " [12744.31 11944.59]\n",
      " [42176.58 52590.83]\n",
      " [12985.12 12475.35]\n",
      " [ 5261.93  4266.17]\n",
      " [10430.57  9249.5 ]\n",
      " [26845.32 33732.69]\n",
      " [49767.22 48675.52]\n",
      " [ 8585.49  7729.65]\n",
      " [ 2997.    1964.78]\n",
      " [ 9649.28  8444.47]\n",
      " [13361.15 12347.17]\n",
      " [10319.91  9301.89]\n",
      " [40292.2  42124.52]\n",
      " [11426.75  9991.04]\n",
      " [15029.15 14319.03]\n",
      " [ 7658.74  5428.73]\n",
      " [ 8784.99  7626.99]\n",
      " [ 5826.35  4906.41]\n",
      " [27780.42 23401.31]\n",
      " [17929.21 21098.55]\n",
      " [47913.86 48173.36]\n",
      " [ 3283.27  1917.32]\n",
      " [ 9356.36  8219.2 ]\n",
      " [ 2894.28  1725.55]\n",
      " [ 6802.27  5976.83]\n",
      " [10573.62  9361.33]\n",
      " [33842.19 22144.03]\n",
      " [32733.54 35491.64]\n",
      " [21479.82 19515.54]\n",
      " [11272.68 10107.22]\n",
      " [22512.23 23244.79]\n",
      " [ 3716.57  2789.06]\n",
      " [ 3282.07  2261.57]\n",
      " [11748.07 10594.5 ]\n",
      " [10482.81  9304.7 ]\n",
      " [11531.38 10435.07]\n",
      " [ 5774.56  4894.75]\n",
      " [15006.48 14313.85]\n",
      " [13893.31 28287.9 ]\n",
      " [ 4844.29 14426.07]\n",
      " [ 2675.41  1627.28]\n",
      " [12053.82 25517.11]\n",
      " [ 7699.76  6555.07]\n",
      " [41327.76 39611.76]\n",
      " [11147.19  9964.06]\n",
      " [ 2770.03  1720.35]\n",
      " [ 3829.15  2730.11]\n",
      " [ 7378.57  6500.24]\n",
      " [ 3731.37  2643.27]\n",
      " [ 2748.92  1719.44]\n",
      " [12022.3  11085.59]\n",
      " [11230.82 10115.01]\n",
      " [ 6186.16  4846.92]\n",
      " [13605.71 12982.87]\n",
      " [13727.83 28923.14]\n",
      " [10398.42  9391.35]\n",
      " [ 5747.58  4544.23]\n",
      " [ 6526.1  17128.43]\n",
      " [16014.65 13844.51]\n",
      " [ 7474.76  6113.23]\n",
      " [ 5104.55  4441.21]\n",
      " [ 2838.67  1633.96]\n",
      " [ 5277.19  4058.71]\n",
      " [ 5109.61  4435.09]\n",
      " [ 9504.49  8310.84]\n",
      " [ 3019.42  1986.93]\n",
      " [ 5244.16  4260.74]\n",
      " [ 5789.41  4504.66]\n",
      " [ 4895.75  4428.89]\n",
      " [ 7093.49  6117.49]\n",
      " [36482.4  30184.94]\n",
      " [ 2617.18  1708.93]\n",
      " [12430.95 11187.66]\n",
      " [ 7822.94  6796.86]\n",
      " [12395.94 11356.66]\n",
      " [ 3493.79  2498.41]\n",
      " [ 6225.49 27375.9 ]\n",
      " [31874.98 28101.33]\n",
      " [ 3668.61  2254.8 ]\n",
      " [ 3539.29  2597.78]\n",
      " [14995.46 14692.67]\n",
      " [11595.27 10370.91]\n",
      " [37852.2  41097.16]\n",
      " [ 4850.11  3981.98]\n",
      " [ 6496.17  5472.45]\n",
      " [23511.33 21223.68]\n",
      " [ 3697.05  2534.39]\n",
      " [ 2974.02  1972.95]\n",
      " [ 7456.04  6406.41]\n",
      " [ 7846.34  6551.75]\n",
      " [ 5225.59  4058.12]\n",
      " [ 5154.27  4243.59]\n",
      " [12696.79 11512.41]\n",
      " [43523.58 46889.26]\n",
      " [13458.84 12268.63]\n",
      " [19623.88 19199.94]\n",
      " [ 5578.85  4433.39]\n",
      " [43941.71 42969.85]\n",
      " [ 4431.37 23241.47]\n",
      " [10408.46  9140.95]\n",
      " [ 6692.57  5836.52]\n",
      " [ 2253.27  1149.4 ]\n",
      " [ 9997.98  8765.25]\n",
      " [14637.53 14043.48]\n",
      " [ 6293.82  5312.17]\n",
      " [ 3364.13 10795.94]\n",
      " [ 7420.63  6282.23]\n",
      " [ 2939.11  1969.61]\n",
      " [ 7376.12  6746.74]\n",
      " [ 6430.37  5354.07]\n",
      " [15209.71 14001.29]\n",
      " [ 8296.01  6877.98]\n",
      " [ 6740.32  6196.45]\n",
      " [ 9030.4   7986.48]\n",
      " [ 9510.62  8277.52]\n",
      " [ 4279.53  3206.49]\n",
      " [12882.31 11848.14]\n",
      " [14654.18 14210.54]\n",
      " [13548.22 12265.51]\n",
      " [12713.23 11837.16]\n",
      " [ 8388.96  6652.53]\n",
      " [ 2986.5   2137.65]\n",
      " [ 2223.76  1131.51]\n",
      " [ 9426.12  8342.91]\n",
      " [13290.22 12244.53]\n",
      " [ 7052.06  4561.19]\n",
      " [ 5317.99 17626.24]\n",
      " [ 8050.87  6875.96]\n",
      " [10601.58  9447.38]\n",
      " [27685.76 34254.05]\n",
      " [ 6968.45  6067.13]\n",
      " [12382.93 11729.68]\n",
      " [ 6538.24  5383.54]\n",
      " [31269.37 37465.34]\n",
      " [ 8125.03  7371.77]\n",
      " [ 8541.56  7325.05]\n",
      " [ 9471.    8410.05]\n",
      " [11756.21 10461.98]\n",
      " [ 3930.08  3279.87]\n",
      " [ 8834.32  7727.25]\n",
      " [ 3832.65  2731.91]\n",
      " [ 7655.91  6858.48]\n",
      " [24449.86 19521.97]\n",
      " [42049.57 47305.31]\n",
      " [ 4708.68  3987.93]\n",
      " [ 3914.13  3238.44]\n",
      " [ 3401.7   7323.73]\n",
      " [ 2350.49  1704.57]\n",
      " [ 8589.79  7445.92]\n",
      " [ 2814.42  1629.83]\n",
      " [ 6028.76  4877.98]\n",
      " [ 4311.5   3561.89]\n",
      " [10326.84  8605.36]\n",
      " [32516.15 24520.26]\n",
      " [40010.85 45710.21]\n",
      " [15719.22 15019.76]\n",
      " [ 7761.01  6664.69]\n",
      " [12014.91 20709.02]\n",
      " [38438.29 40932.43]\n",
      " [10009.18  9500.57]]\n"
     ]
    }
   ],
   "source": [
    "y_pred = sc_y.inverse_transform(regressor.predict(sc_X.transform(X_test)))\n",
    "np.set_printoptions(precision=2)\n",
    "print(np.concatenate((y_pred.reshape(len(y_pred),1), y_test.reshape(len(y_test),1)),1))"
   ]
  },
  {
   "cell_type": "markdown",
   "metadata": {
    "colab_type": "text",
    "id": "CMsYlps2DX1d"
   },
   "source": [
    "## Evaluating the Model Performance"
   ]
  },
  {
   "cell_type": "code",
   "execution_count": 9,
   "metadata": {
    "colab": {},
    "colab_type": "code",
    "id": "HxsRWlURDr6S"
   },
   "outputs": [
    {
     "data": {
      "text/plain": [
       "0.8869616746452476"
      ]
     },
     "execution_count": 9,
     "metadata": {},
     "output_type": "execute_result"
    }
   ],
   "source": [
    "from sklearn.metrics import r2_score\n",
    "r2_score(y_test, y_pred)"
   ]
  },
  {
   "cell_type": "code",
   "execution_count": null,
   "metadata": {},
   "outputs": [],
   "source": []
  },
  {
   "cell_type": "code",
   "execution_count": null,
   "metadata": {},
   "outputs": [],
   "source": []
  },
  {
   "cell_type": "code",
   "execution_count": null,
   "metadata": {},
   "outputs": [],
   "source": []
  }
 ],
 "metadata": {
  "colab": {
   "collapsed_sections": [],
   "name": "support_vector_regression.ipynb",
   "provenance": [],
   "toc_visible": true
  },
  "kernelspec": {
   "display_name": "Python 3",
   "language": "python",
   "name": "python3"
  },
  "language_info": {
   "codemirror_mode": {
    "name": "ipython",
    "version": 3
   },
   "file_extension": ".py",
   "mimetype": "text/x-python",
   "name": "python",
   "nbconvert_exporter": "python",
   "pygments_lexer": "ipython3",
   "version": "3.8.5"
  }
 },
 "nbformat": 4,
 "nbformat_minor": 1
}
