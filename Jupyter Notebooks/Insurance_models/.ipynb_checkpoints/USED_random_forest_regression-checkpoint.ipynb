{
 "cells": [
  {
   "cell_type": "markdown",
   "metadata": {
    "colab_type": "text",
    "id": "LeamvpPVXuS_"
   },
   "source": [
    "# Random Forest Regression"
   ]
  },
  {
   "cell_type": "markdown",
   "metadata": {
    "colab_type": "text",
    "id": "O2wvZ7SKXzVC"
   },
   "source": [
    "## Importing the libraries"
   ]
  },
  {
   "cell_type": "code",
   "execution_count": 1,
   "metadata": {
    "colab": {},
    "colab_type": "code",
    "id": "PVmESEFZX4Ig"
   },
   "outputs": [],
   "source": [
    "import numpy as np\n",
    "import matplotlib.pyplot as plt\n",
    "import pandas as pd"
   ]
  },
  {
   "cell_type": "markdown",
   "metadata": {
    "colab_type": "text",
    "id": "zgbK_F8-X7em"
   },
   "source": [
    "## Importing the dataset"
   ]
  },
  {
   "cell_type": "code",
   "execution_count": 2,
   "metadata": {
    "colab": {},
    "colab_type": "code",
    "id": "adBE4tjQX_Bh"
   },
   "outputs": [
    {
     "data": {
      "text/html": [
       "<div>\n",
       "<style scoped>\n",
       "    .dataframe tbody tr th:only-of-type {\n",
       "        vertical-align: middle;\n",
       "    }\n",
       "\n",
       "    .dataframe tbody tr th {\n",
       "        vertical-align: top;\n",
       "    }\n",
       "\n",
       "    .dataframe thead th {\n",
       "        text-align: right;\n",
       "    }\n",
       "</style>\n",
       "<table border=\"1\" class=\"dataframe\">\n",
       "  <thead>\n",
       "    <tr style=\"text-align: right;\">\n",
       "      <th></th>\n",
       "      <th>age</th>\n",
       "      <th>sex</th>\n",
       "      <th>bmi</th>\n",
       "      <th>children</th>\n",
       "      <th>smoker</th>\n",
       "      <th>region</th>\n",
       "      <th>charges</th>\n",
       "    </tr>\n",
       "  </thead>\n",
       "  <tbody>\n",
       "    <tr>\n",
       "      <th>0</th>\n",
       "      <td>19</td>\n",
       "      <td>female</td>\n",
       "      <td>27.900</td>\n",
       "      <td>0</td>\n",
       "      <td>yes</td>\n",
       "      <td>southwest</td>\n",
       "      <td>16884.92400</td>\n",
       "    </tr>\n",
       "    <tr>\n",
       "      <th>1</th>\n",
       "      <td>18</td>\n",
       "      <td>male</td>\n",
       "      <td>33.770</td>\n",
       "      <td>1</td>\n",
       "      <td>no</td>\n",
       "      <td>southeast</td>\n",
       "      <td>1725.55230</td>\n",
       "    </tr>\n",
       "    <tr>\n",
       "      <th>2</th>\n",
       "      <td>28</td>\n",
       "      <td>male</td>\n",
       "      <td>33.000</td>\n",
       "      <td>3</td>\n",
       "      <td>no</td>\n",
       "      <td>southeast</td>\n",
       "      <td>4449.46200</td>\n",
       "    </tr>\n",
       "    <tr>\n",
       "      <th>3</th>\n",
       "      <td>33</td>\n",
       "      <td>male</td>\n",
       "      <td>22.705</td>\n",
       "      <td>0</td>\n",
       "      <td>no</td>\n",
       "      <td>northwest</td>\n",
       "      <td>21984.47061</td>\n",
       "    </tr>\n",
       "    <tr>\n",
       "      <th>4</th>\n",
       "      <td>32</td>\n",
       "      <td>male</td>\n",
       "      <td>28.880</td>\n",
       "      <td>0</td>\n",
       "      <td>no</td>\n",
       "      <td>northwest</td>\n",
       "      <td>3866.85520</td>\n",
       "    </tr>\n",
       "    <tr>\n",
       "      <th>...</th>\n",
       "      <td>...</td>\n",
       "      <td>...</td>\n",
       "      <td>...</td>\n",
       "      <td>...</td>\n",
       "      <td>...</td>\n",
       "      <td>...</td>\n",
       "      <td>...</td>\n",
       "    </tr>\n",
       "    <tr>\n",
       "      <th>1333</th>\n",
       "      <td>50</td>\n",
       "      <td>male</td>\n",
       "      <td>30.970</td>\n",
       "      <td>3</td>\n",
       "      <td>no</td>\n",
       "      <td>northwest</td>\n",
       "      <td>10600.54830</td>\n",
       "    </tr>\n",
       "    <tr>\n",
       "      <th>1334</th>\n",
       "      <td>18</td>\n",
       "      <td>female</td>\n",
       "      <td>31.920</td>\n",
       "      <td>0</td>\n",
       "      <td>no</td>\n",
       "      <td>northeast</td>\n",
       "      <td>2205.98080</td>\n",
       "    </tr>\n",
       "    <tr>\n",
       "      <th>1335</th>\n",
       "      <td>18</td>\n",
       "      <td>female</td>\n",
       "      <td>36.850</td>\n",
       "      <td>0</td>\n",
       "      <td>no</td>\n",
       "      <td>southeast</td>\n",
       "      <td>1629.83350</td>\n",
       "    </tr>\n",
       "    <tr>\n",
       "      <th>1336</th>\n",
       "      <td>21</td>\n",
       "      <td>female</td>\n",
       "      <td>25.800</td>\n",
       "      <td>0</td>\n",
       "      <td>no</td>\n",
       "      <td>southwest</td>\n",
       "      <td>2007.94500</td>\n",
       "    </tr>\n",
       "    <tr>\n",
       "      <th>1337</th>\n",
       "      <td>61</td>\n",
       "      <td>female</td>\n",
       "      <td>29.070</td>\n",
       "      <td>0</td>\n",
       "      <td>yes</td>\n",
       "      <td>northwest</td>\n",
       "      <td>29141.36030</td>\n",
       "    </tr>\n",
       "  </tbody>\n",
       "</table>\n",
       "<p>1338 rows × 7 columns</p>\n",
       "</div>"
      ],
      "text/plain": [
       "      age     sex     bmi  children smoker     region      charges\n",
       "0      19  female  27.900         0    yes  southwest  16884.92400\n",
       "1      18    male  33.770         1     no  southeast   1725.55230\n",
       "2      28    male  33.000         3     no  southeast   4449.46200\n",
       "3      33    male  22.705         0     no  northwest  21984.47061\n",
       "4      32    male  28.880         0     no  northwest   3866.85520\n",
       "...   ...     ...     ...       ...    ...        ...          ...\n",
       "1333   50    male  30.970         3     no  northwest  10600.54830\n",
       "1334   18  female  31.920         0     no  northeast   2205.98080\n",
       "1335   18  female  36.850         0     no  southeast   1629.83350\n",
       "1336   21  female  25.800         0     no  southwest   2007.94500\n",
       "1337   61  female  29.070         0    yes  northwest  29141.36030\n",
       "\n",
       "[1338 rows x 7 columns]"
      ]
     },
     "execution_count": 2,
     "metadata": {},
     "output_type": "execute_result"
    }
   ],
   "source": [
    "dataset = pd.read_csv('../../Datasets/insurance.csv')\n",
    "# dataset = dataset.drop(columns=['bmi', 'children'])\n",
    "X = dataset.iloc[:, :-1].values\n",
    "y = dataset.iloc[:, -1].values\n",
    "dataset"
   ]
  },
  {
   "cell_type": "code",
   "execution_count": 3,
   "metadata": {},
   "outputs": [
    {
     "name": "stdout",
     "output_type": "stream",
     "text": [
      "[[1.0 0.0 0.0 ... 19 27.9 0]\n",
      " [0.0 1.0 1.0 ... 18 33.77 1]\n",
      " [0.0 1.0 1.0 ... 28 33.0 3]\n",
      " ...\n",
      " [1.0 0.0 1.0 ... 18 36.85 0]\n",
      " [1.0 0.0 1.0 ... 21 25.8 0]\n",
      " [1.0 0.0 0.0 ... 61 29.07 0]]\n"
     ]
    }
   ],
   "source": [
    "# One hot encoding: turn string column into 3 different columns (countries), for 3 different categories\n",
    "# Bindary vector: each country to a certain order of the columns\n",
    "\n",
    "# Coding independent variable\n",
    "from sklearn.compose import ColumnTransformer\n",
    "from sklearn.preprocessing import OneHotEncoder\n",
    "\n",
    "# Create object of the column transformer class\n",
    "# [0] is the index of column to apply OneHotEncoding\n",
    "ct = ColumnTransformer(transformers=[('encoder', OneHotEncoder(), [1,4,5])], remainder='passthrough')\n",
    "\n",
    "# Apply the transform method to change the column X\n",
    "X = np.array(ct.fit_transform(X))\n",
    "\n",
    "print(X)"
   ]
  },
  {
   "cell_type": "markdown",
   "metadata": {
    "colab_type": "text",
    "id": "ptNjcy7bOBlD"
   },
   "source": [
    "## Splitting the dataset into the Training set and Test set"
   ]
  },
  {
   "cell_type": "code",
   "execution_count": 4,
   "metadata": {
    "colab": {},
    "colab_type": "code",
    "id": "C7NdofoCOFQF"
   },
   "outputs": [],
   "source": [
    "from sklearn.model_selection import train_test_split\n",
    "X_train, X_test, y_train, y_test = train_test_split(X, y, test_size = 0.2, random_state = 0)"
   ]
  },
  {
   "cell_type": "markdown",
   "metadata": {
    "colab_type": "text",
    "id": "v4S2fyIBYDcu"
   },
   "source": [
    "## Training the Random Forest Regression model on the whole dataset"
   ]
  },
  {
   "cell_type": "code",
   "execution_count": 5,
   "metadata": {
    "colab": {},
    "colab_type": "code",
    "id": "o8dOCoJ1YKMc"
   },
   "outputs": [
    {
     "data": {
      "text/plain": [
       "RandomForestRegressor(n_estimators=89, random_state=46)"
      ]
     },
     "execution_count": 5,
     "metadata": {},
     "output_type": "execute_result"
    }
   ],
   "source": [
    "from sklearn.ensemble import RandomForestRegressor\n",
    "regressor = RandomForestRegressor(n_estimators = 89, random_state = 46)\n",
    "regressor.fit(X_train, y_train)"
   ]
  },
  {
   "cell_type": "markdown",
   "metadata": {
    "colab_type": "text",
    "id": "DM_jh0frOPKE"
   },
   "source": [
    "## Predicting the Test set results"
   ]
  },
  {
   "cell_type": "code",
   "execution_count": 6,
   "metadata": {
    "colab": {},
    "colab_type": "code",
    "id": "JGa9ZfM4OTNw"
   },
   "outputs": [
    {
     "name": "stdout",
     "output_type": "stream",
     "text": [
      "[[ 9988.01  9724.53]\n",
      " [ 9442.73  8547.69]\n",
      " [44565.83 45702.02]\n",
      " [13182.82 12950.07]\n",
      " [ 9332.25  9644.25]\n",
      " [10046.07  4500.34]\n",
      " [ 2246.44  2198.19]\n",
      " [12218.28 11436.74]\n",
      " [ 7667.3   7537.16]\n",
      " [ 6226.43  5425.02]\n",
      " [ 6960.36  6753.04]\n",
      " [20495.36 10493.95]\n",
      " [ 8342.51  7337.75]\n",
      " [ 5206.87  4185.1 ]\n",
      " [21752.59 18310.74]\n",
      " [14090.53 10702.64]\n",
      " [13607.35 12523.6 ]\n",
      " [10682.21  3490.55]\n",
      " [ 6874.49  6457.84]\n",
      " [34076.48 33475.82]\n",
      " [23834.19 23967.38]\n",
      " [14339.34 12643.38]\n",
      " [10577.12 23045.57]\n",
      " [27181.69 23065.42]\n",
      " [ 3549.34  1674.63]\n",
      " [ 9641.38  4667.61]\n",
      " [ 7474.27  3732.63]\n",
      " [ 7797.43  7682.67]\n",
      " [ 3803.26  3756.62]\n",
      " [10072.21  8413.46]\n",
      " [ 7695.47  8059.68]\n",
      " [48227.39 48970.25]\n",
      " [14506.51 12979.36]\n",
      " [11223.13 20630.28]\n",
      " [15558.44 14571.89]\n",
      " [ 4280.79  4137.52]\n",
      " [ 9231.65  8347.16]\n",
      " [37528.89 51194.56]\n",
      " [40249.42 40003.33]\n",
      " [ 5643.39  1880.49]\n",
      " [ 8657.45  5458.05]\n",
      " [ 3552.77  2867.12]\n",
      " [21170.19 20149.32]\n",
      " [47860.33 47496.49]\n",
      " [37015.05 36149.48]\n",
      " [ 5250.86 26018.95]\n",
      " [14412.99 19749.38]\n",
      " [ 6752.31  6940.91]\n",
      " [ 7184.69  4718.2 ]\n",
      " [14637.42 22192.44]\n",
      " [ 3869.52  2899.49]\n",
      " [13804.77 18838.7 ]\n",
      " [26914.91 23568.27]\n",
      " [47974.78 46255.11]\n",
      " [11748.75 24227.34]\n",
      " [ 8920.11  3268.85]\n",
      " [ 3284.5   2322.62]\n",
      " [11765.22  8827.21]\n",
      " [10504.34 14478.33]\n",
      " [16534.87 13112.6 ]\n",
      " [ 1545.3   1253.94]\n",
      " [47183.26 46718.16]\n",
      " [17349.35 13919.82]\n",
      " [11834.91  9630.4 ]\n",
      " [14981.52 10736.87]\n",
      " [ 9904.97  9880.07]\n",
      " [34051.44 32548.34]\n",
      " [43002.41 38746.36]\n",
      " [ 7732.85  3180.51]\n",
      " [11226.47  8162.72]\n",
      " [16629.17 13041.92]\n",
      " [12260.91 11554.22]\n",
      " [17682.45 16232.85]\n",
      " [14358.64 13887.97]\n",
      " [13092.1  13012.21]\n",
      " [15866.96 13217.09]\n",
      " [ 9921.14  7147.1 ]\n",
      " [10873.4   7731.43]\n",
      " [20178.76 20296.86]\n",
      " [47810.48 47403.88]\n",
      " [11762.55 11658.38]\n",
      " [48837.93 45863.21]\n",
      " [ 2762.52  2055.32]\n",
      " [ 8886.2   7441.05]\n",
      " [40569.79 41034.22]\n",
      " [19392.6  18972.49]\n",
      " [ 3342.58  3410.32]\n",
      " [ 2708.32  2699.57]\n",
      " [14976.34 12333.83]\n",
      " [39029.66 36837.47]\n",
      " [12284.15  6334.34]\n",
      " [13069.69 10214.64]\n",
      " [ 3935.25 17878.9 ]\n",
      " [ 9182.85  8515.76]\n",
      " [ 7666.54  4518.83]\n",
      " [ 8197.21  5148.55]\n",
      " [42820.22 42303.69]\n",
      " [51315.55 38998.55]\n",
      " [ 5945.68  5327.4 ]\n",
      " [10773.3  10602.39]\n",
      " [ 3051.07  1824.29]\n",
      " [ 6182.17  5377.46]\n",
      " [ 6343.71  4349.46]\n",
      " [38874.99 37742.58]\n",
      " [26729.6  32787.46]\n",
      " [ 4089.99  3353.47]\n",
      " [11080.46 10577.09]\n",
      " [ 8830.79  3556.92]\n",
      " [11689.12 11944.59]\n",
      " [45826.54 52590.83]\n",
      " [13007.22 12475.35]\n",
      " [ 6577.26  4266.17]\n",
      " [10744.84  9249.5 ]\n",
      " [34358.91 33732.69]\n",
      " [47740.29 48675.52]\n",
      " [ 7638.84  7729.65]\n",
      " [ 2100.4   1964.78]\n",
      " [11725.37  8444.47]\n",
      " [22021.98 12347.17]\n",
      " [10965.71  9301.89]\n",
      " [41697.77 42124.52]\n",
      " [12548.67  9991.04]\n",
      " [14065.94 14319.03]\n",
      " [12789.6   5428.73]\n",
      " [ 9565.81  7626.99]\n",
      " [ 5347.74  4906.41]\n",
      " [26685.69 23401.31]\n",
      " [26735.62 21098.55]\n",
      " [48265.23 48173.36]\n",
      " [ 1730.92  1917.32]\n",
      " [12157.3   8219.2 ]\n",
      " [ 5281.37  1725.55]\n",
      " [ 6283.98  5976.83]\n",
      " [ 9594.48  9361.33]\n",
      " [40164.28 22144.03]\n",
      " [38260.2  35491.64]\n",
      " [24918.96 19515.54]\n",
      " [15278.29 10107.22]\n",
      " [24406.05 23244.79]\n",
      " [ 7304.14  2789.06]\n",
      " [ 2187.28  2261.57]\n",
      " [13099.75 10594.5 ]\n",
      " [10245.6   9304.7 ]\n",
      " [11002.24 10435.07]\n",
      " [ 7090.28  4894.75]\n",
      " [13980.11 14313.85]\n",
      " [19221.84 28287.9 ]\n",
      " [ 7423.67 14426.07]\n",
      " [ 1628.69  1627.28]\n",
      " [11930.36 25517.11]\n",
      " [ 6385.84  6555.07]\n",
      " [39455.16 39611.76]\n",
      " [11789.57  9964.06]\n",
      " [ 5851.61  1720.35]\n",
      " [ 5043.94  2730.11]\n",
      " [ 7716.67  6500.24]\n",
      " [ 4295.68  2643.27]\n",
      " [ 4505.24  1719.44]\n",
      " [14642.89 11085.59]\n",
      " [ 9845.61 10115.01]\n",
      " [12141.18  4846.92]\n",
      " [13257.08 12982.87]\n",
      " [13151.43 28923.14]\n",
      " [ 9591.21  9391.35]\n",
      " [ 5150.59  4544.23]\n",
      " [11644.64 17128.43]\n",
      " [17097.59 13844.51]\n",
      " [11263.06  6113.23]\n",
      " [ 5144.49  4441.21]\n",
      " [ 2084.34  1633.96]\n",
      " [ 8699.19  4058.71]\n",
      " [ 6918.52  4435.09]\n",
      " [ 9795.03  8310.84]\n",
      " [ 2283.53  1986.93]\n",
      " [ 7749.9   4260.74]\n",
      " [ 7059.41  4504.66]\n",
      " [ 7494.46  4428.89]\n",
      " [ 6812.23  6117.49]\n",
      " [27735.94 30184.94]\n",
      " [ 1742.97  1708.93]\n",
      " [17446.11 11187.66]\n",
      " [ 6962.94  6796.86]\n",
      " [11430.89 11356.66]\n",
      " [ 4474.01  2498.41]\n",
      " [ 7475.53 27375.9 ]\n",
      " [28523.35 28101.33]\n",
      " [ 3515.86  2254.8 ]\n",
      " [ 2569.01  2597.78]\n",
      " [14281.94 14692.67]\n",
      " [13397.02 10370.91]\n",
      " [41533.45 41097.16]\n",
      " [ 5267.91  3981.98]\n",
      " [ 5394.31  5472.45]\n",
      " [24797.56 21223.68]\n",
      " [ 3129.    2534.39]\n",
      " [ 5525.86  1972.95]\n",
      " [10330.18  6406.41]\n",
      " [13497.03  6551.75]\n",
      " [ 7880.35  4058.12]\n",
      " [ 4716.79  4243.59]\n",
      " [12393.74 11512.41]\n",
      " [46668.69 46889.26]\n",
      " [15071.5  12268.63]\n",
      " [19055.17 19199.94]\n",
      " [ 7667.28  4433.39]\n",
      " [43206.47 42969.85]\n",
      " [ 7301.88 23241.47]\n",
      " [13235.59  9140.95]\n",
      " [ 5760.92  5836.52]\n",
      " [ 1219.96  1149.4 ]\n",
      " [10859.57  8765.25]\n",
      " [13649.78 14043.48]\n",
      " [ 7238.14  5312.17]\n",
      " [ 7497.58 10795.94]\n",
      " [ 6677.8   6282.23]\n",
      " [ 8349.32  1969.61]\n",
      " [ 6974.31  6746.74]\n",
      " [ 7467.69  5354.07]\n",
      " [14510.96 14001.29]\n",
      " [ 7062.45  6877.98]\n",
      " [ 6900.37  6196.45]\n",
      " [ 7859.55  7986.48]\n",
      " [14914.75  8277.52]\n",
      " [ 5329.7   3206.49]\n",
      " [12754.46 11848.14]\n",
      " [14246.32 14210.54]\n",
      " [17341.1  12265.51]\n",
      " [11769.39 11837.16]\n",
      " [ 7084.62  6652.53]\n",
      " [ 3545.38  2137.65]\n",
      " [ 6737.69  1131.51]\n",
      " [ 9118.68  8342.91]\n",
      " [14056.08 12244.53]\n",
      " [ 6115.89  4561.19]\n",
      " [ 5342.83 17626.24]\n",
      " [ 7137.8   6875.96]\n",
      " [14682.23  9447.38]\n",
      " [34329.09 34254.05]\n",
      " [ 6144.24  6067.13]\n",
      " [13970.73 11729.68]\n",
      " [ 5940.95  5383.54]\n",
      " [37274.53 37465.34]\n",
      " [ 7796.17  7371.77]\n",
      " [ 7725.88  7325.05]\n",
      " [ 9934.87  8410.05]\n",
      " [12356.01 10461.98]\n",
      " [ 6223.45  3279.87]\n",
      " [ 8402.69  7727.25]\n",
      " [ 2427.61  2731.91]\n",
      " [ 7821.12  6858.48]\n",
      " [19176.1  19521.97]\n",
      " [46771.6  47305.31]\n",
      " [ 4510.24  3987.93]\n",
      " [ 5144.04  3238.44]\n",
      " [ 5207.79  7323.73]\n",
      " [ 1704.69  1704.57]\n",
      " [ 8333.89  7445.92]\n",
      " [ 2612.42  1629.83]\n",
      " [ 7945.81  4877.98]\n",
      " [ 6462.15  3561.89]\n",
      " [ 8982.17  8605.36]\n",
      " [25498.16 24520.26]\n",
      " [46147.26 45710.21]\n",
      " [15580.15 15019.76]\n",
      " [ 6620.11  6664.69]\n",
      " [11400.21 20709.02]\n",
      " [41173.62 40932.43]\n",
      " [ 9404.09  9500.57]]\n"
     ]
    }
   ],
   "source": [
    "y_pred = regressor.predict(X_test)\n",
    "np.set_printoptions(precision=2)\n",
    "print(np.concatenate((y_pred.reshape(len(y_pred),1), y_test.reshape(len(y_test),1)),1))"
   ]
  },
  {
   "cell_type": "markdown",
   "metadata": {
    "colab_type": "text",
    "id": "Cd8VZM5POWXN"
   },
   "source": [
    "## Evaluating the Model Performance"
   ]
  },
  {
   "cell_type": "code",
   "execution_count": 7,
   "metadata": {
    "colab": {},
    "colab_type": "code",
    "id": "a7y1rXlfOZJo"
   },
   "outputs": [
    {
     "data": {
      "text/plain": [
       "0.8821485727833361"
      ]
     },
     "execution_count": 7,
     "metadata": {},
     "output_type": "execute_result"
    }
   ],
   "source": [
    "from sklearn.metrics import r2_score\n",
    "r2_score(y_test, y_pred)"
   ]
  },
  {
   "cell_type": "code",
   "execution_count": 8,
   "metadata": {},
   "outputs": [
    {
     "name": "stdout",
     "output_type": "stream",
     "text": [
      "          Gini-importance\n",
      "age              0.003282\n",
      "sex              0.003128\n",
      "bmi              0.371651\n",
      "children         0.241325\n",
      "smoker           0.004817\n",
      "region           0.005451\n"
     ]
    },
    {
     "data": {
      "image/png": "[encoded data removed]",
      "text/plain": [
       "<Figure size 432x288 with 1 Axes>"
      ]
     },
     "metadata": {
      "needs_background": "light"
     },
     "output_type": "display_data"
    }
   ],
   "source": [
    "feats = {} # a dict to hold feature_name: feature_importance\n",
    "feat_dataset = pd.DataFrame(dataset.iloc[:, :-1])\n",
    "\n",
    "for feature, importance in zip(feat_dataset.columns, regressor.feature_importances_):\n",
    "    feats[feature] = importance #add the name/value pair \n",
    "\n",
    "importances = pd.DataFrame.from_dict(feats, orient='index').rename(columns={0: 'Gini-importance'})\n",
    "importances.sort_values(by='Gini-importance').plot(kind='bar', rot=45)\n",
    "print(importances)"
   ]
  },
  {
   "cell_type": "code",
   "execution_count": 9,
   "metadata": {},
   "outputs": [],
   "source": [
    "# import seaborn as sns\n",
    "# sns.heatmap(dataset.corr(),cmap='magma')"
   ]
  },
  {
   "cell_type": "code",
   "execution_count": 10,
   "metadata": {},
   "outputs": [
    {
     "name": "stdout",
     "output_type": "stream",
     "text": [
      "Accuracy: 81.77 %\n",
      "Standard Deviation: 3.82 %\n"
     ]
    }
   ],
   "source": [
    "# Apply k-fold cross validation\n",
    "\n",
    "from sklearn.model_selection import cross_val_score\n",
    "accuracies = cross_val_score(estimator = regressor, X = X_train, y = y_train, cv = 10)\n",
    "print(\"Accuracy: {:.2f} %\".format(accuracies.mean()*100))\n",
    "print(\"Standard Deviation: {:.2f} %\".format(accuracies.std()*100))"
   ]
  },
  {
   "cell_type": "code",
   "execution_count": 11,
   "metadata": {},
   "outputs": [
    {
     "name": "stdout",
     "output_type": "stream",
     "text": [
      "Best Accuracy: 81.77 %\n",
      "Best Parameters: {'n_estimators': 89, 'random_state': 46}\n"
     ]
    }
   ],
   "source": [
    "# Apply Grid Search to find best model and parameters\n",
    "\n",
    "number_est = range(85, 95)\n",
    "rand_state = range(44, 55)\n",
    "from sklearn.model_selection import GridSearchCV\n",
    "parameters = [{'n_estimators': number_est, 'random_state': rand_state},\n",
    "              ]\n",
    "grid_search = GridSearchCV(estimator = regressor,\n",
    "                           param_grid = parameters,\n",
    "                           cv = 10,\n",
    "                           n_jobs = -1)\n",
    "grid_search.fit(X_train, y_train)\n",
    "best_accuracy = grid_search.best_score_\n",
    "best_parameters = grid_search.best_params_\n",
    "print(\"Best Accuracy: {:.2f} %\".format(best_accuracy*100))\n",
    "print(\"Best Parameters:\", best_parameters)"
   ]
  },
  {
   "cell_type": "markdown",
   "metadata": {},
   "source": [
    "# Predict Function"
   ]
  },
  {
   "cell_type": "code",
   "execution_count": 12,
   "metadata": {},
   "outputs": [],
   "source": [
    "def predict_model(age, gender, bmi, children, smoker, region):\n",
    "    user_inputs = []\n",
    "    user_inputs.append(age)\n",
    "    user_inputs.append(gender)\n",
    "    user_inputs.append(bmi)\n",
    "    user_inputs.append(children)\n",
    "    user_inputs.append(smoker)\n",
    "    user_inputs.append(region)\n",
    "    print(user_inputs)\n",
    "    predicted_value = model_file.predict(ct.transform([user_inputs]))"
   ]
  },
  {
   "cell_type": "markdown",
   "metadata": {},
   "source": [
    "# Feature Exploration"
   ]
  },
  {
   "cell_type": "code",
   "execution_count": null,
   "metadata": {},
   "outputs": [],
   "source": [
    "import matplotlib.pyplot as plt\n",
    "import seaborn as sns\n",
    "%matplotlib inline"
   ]
  },
  {
   "cell_type": "code",
   "execution_count": 18,
   "metadata": {},
   "outputs": [
    {
     "ename": "ModuleNotFoundError",
     "evalue": "No module named 'seaborn'",
     "output_type": "error",
     "traceback": [
      "\u001b[0;31m---------------------------------------------------------------------------\u001b[0m",
      "\u001b[0;31mModuleNotFoundError\u001b[0m                       Traceback (most recent call last)",
      "\u001b[0;32m<ipython-input-18-93fcef789c8f>\u001b[0m in \u001b[0;36m<module>\u001b[0;34m\u001b[0m\n\u001b[1;32m      1\u001b[0m \u001b[0;31m# Feature Correlation\u001b[0m\u001b[0;34m\u001b[0m\u001b[0;34m\u001b[0m\u001b[0;34m\u001b[0m\u001b[0m\n\u001b[1;32m      2\u001b[0m \u001b[0;32mimport\u001b[0m \u001b[0mmatplotlib\u001b[0m\u001b[0;34m.\u001b[0m\u001b[0mpyplot\u001b[0m \u001b[0;32mas\u001b[0m \u001b[0mplt\u001b[0m\u001b[0;34m\u001b[0m\u001b[0;34m\u001b[0m\u001b[0m\n\u001b[0;32m----> 3\u001b[0;31m \u001b[0;32mimport\u001b[0m \u001b[0mseaborn\u001b[0m \u001b[0;32mas\u001b[0m \u001b[0msns\u001b[0m\u001b[0;34m\u001b[0m\u001b[0;34m\u001b[0m\u001b[0m\n\u001b[0m\u001b[1;32m      4\u001b[0m \u001b[0mget_ipython\u001b[0m\u001b[0;34m(\u001b[0m\u001b[0;34m)\u001b[0m\u001b[0;34m.\u001b[0m\u001b[0mrun_line_magic\u001b[0m\u001b[0;34m(\u001b[0m\u001b[0;34m'matplotlib'\u001b[0m\u001b[0;34m,\u001b[0m \u001b[0;34m'inline'\u001b[0m\u001b[0;34m)\u001b[0m\u001b[0;34m\u001b[0m\u001b[0;34m\u001b[0m\u001b[0m\n\u001b[1;32m      5\u001b[0m \u001b[0;34m\u001b[0m\u001b[0m\n",
      "\u001b[0;31mModuleNotFoundError\u001b[0m: No module named 'seaborn'"
     ]
    }
   ],
   "source": [
    "# Feature Correlation\n",
    "\n",
    "sns.heatmap(dataset.corr())"
   ]
  },
  {
   "cell_type": "code",
   "execution_count": null,
   "metadata": {},
   "outputs": [],
   "source": [
    "pvflights = flights.pivot_table(values='passengers',index='month',columns='year')\n",
    "sns.heatmap(pvflights)"
   ]
  },
  {
   "cell_type": "code",
   "execution_count": null,
   "metadata": {},
   "outputs": [],
   "source": [
    "sns.heatmap(pvflights,cmap='magma',linecolor='white',linewidths=1)"
   ]
  }
 ],
 "metadata": {
  "colab": {
   "collapsed_sections": [],
   "name": "random_forest_regression.ipynb",
   "provenance": [],
   "toc_visible": true
  },
  "kernelspec": {
   "display_name": "Python 3",
   "language": "python",
   "name": "python3"
  },
  "language_info": {
   "codemirror_mode": {
    "name": "ipython",
    "version": 3
   },
   "file_extension": ".py",
   "mimetype": "text/x-python",
   "name": "python",
   "nbconvert_exporter": "python",
   "pygments_lexer": "ipython3",
   "version": "3.7.8"
  }
 },
 "nbformat": 4,
 "nbformat_minor": 1
}
