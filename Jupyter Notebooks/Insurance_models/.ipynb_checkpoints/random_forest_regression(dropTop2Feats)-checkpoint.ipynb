{
 "cells": [
  {
   "cell_type": "markdown",
   "metadata": {
    "colab_type": "text",
    "id": "LeamvpPVXuS_"
   },
   "source": [
    "# Random Forest Regression"
   ]
  },
  {
   "cell_type": "markdown",
   "metadata": {
    "colab_type": "text",
    "id": "O2wvZ7SKXzVC"
   },
   "source": [
    "## Importing the libraries"
   ]
  },
  {
   "cell_type": "code",
   "execution_count": 1,
   "metadata": {
    "colab": {},
    "colab_type": "code",
    "id": "PVmESEFZX4Ig"
   },
   "outputs": [],
   "source": [
    "import numpy as np\n",
    "import matplotlib.pyplot as plt\n",
    "import pandas as pd"
   ]
  },
  {
   "cell_type": "markdown",
   "metadata": {
    "colab_type": "text",
    "id": "zgbK_F8-X7em"
   },
   "source": [
    "## Importing the dataset"
   ]
  },
  {
   "cell_type": "code",
   "execution_count": 2,
   "metadata": {
    "colab": {},
    "colab_type": "code",
    "id": "adBE4tjQX_Bh"
   },
   "outputs": [
    {
     "data": {
      "text/html": [
       "<div>\n",
       "<style scoped>\n",
       "    .dataframe tbody tr th:only-of-type {\n",
       "        vertical-align: middle;\n",
       "    }\n",
       "\n",
       "    .dataframe tbody tr th {\n",
       "        vertical-align: top;\n",
       "    }\n",
       "\n",
       "    .dataframe thead th {\n",
       "        text-align: right;\n",
       "    }\n",
       "</style>\n",
       "<table border=\"1\" class=\"dataframe\">\n",
       "  <thead>\n",
       "    <tr style=\"text-align: right;\">\n",
       "      <th></th>\n",
       "      <th>age</th>\n",
       "      <th>sex</th>\n",
       "      <th>smoker</th>\n",
       "      <th>region</th>\n",
       "      <th>charges</th>\n",
       "    </tr>\n",
       "  </thead>\n",
       "  <tbody>\n",
       "    <tr>\n",
       "      <th>0</th>\n",
       "      <td>19</td>\n",
       "      <td>female</td>\n",
       "      <td>yes</td>\n",
       "      <td>southwest</td>\n",
       "      <td>16884.92400</td>\n",
       "    </tr>\n",
       "    <tr>\n",
       "      <th>1</th>\n",
       "      <td>18</td>\n",
       "      <td>male</td>\n",
       "      <td>no</td>\n",
       "      <td>southeast</td>\n",
       "      <td>1725.55230</td>\n",
       "    </tr>\n",
       "    <tr>\n",
       "      <th>2</th>\n",
       "      <td>28</td>\n",
       "      <td>male</td>\n",
       "      <td>no</td>\n",
       "      <td>southeast</td>\n",
       "      <td>4449.46200</td>\n",
       "    </tr>\n",
       "    <tr>\n",
       "      <th>3</th>\n",
       "      <td>33</td>\n",
       "      <td>male</td>\n",
       "      <td>no</td>\n",
       "      <td>northwest</td>\n",
       "      <td>21984.47061</td>\n",
       "    </tr>\n",
       "    <tr>\n",
       "      <th>4</th>\n",
       "      <td>32</td>\n",
       "      <td>male</td>\n",
       "      <td>no</td>\n",
       "      <td>northwest</td>\n",
       "      <td>3866.85520</td>\n",
       "    </tr>\n",
       "    <tr>\n",
       "      <th>...</th>\n",
       "      <td>...</td>\n",
       "      <td>...</td>\n",
       "      <td>...</td>\n",
       "      <td>...</td>\n",
       "      <td>...</td>\n",
       "    </tr>\n",
       "    <tr>\n",
       "      <th>1333</th>\n",
       "      <td>50</td>\n",
       "      <td>male</td>\n",
       "      <td>no</td>\n",
       "      <td>northwest</td>\n",
       "      <td>10600.54830</td>\n",
       "    </tr>\n",
       "    <tr>\n",
       "      <th>1334</th>\n",
       "      <td>18</td>\n",
       "      <td>female</td>\n",
       "      <td>no</td>\n",
       "      <td>northeast</td>\n",
       "      <td>2205.98080</td>\n",
       "    </tr>\n",
       "    <tr>\n",
       "      <th>1335</th>\n",
       "      <td>18</td>\n",
       "      <td>female</td>\n",
       "      <td>no</td>\n",
       "      <td>southeast</td>\n",
       "      <td>1629.83350</td>\n",
       "    </tr>\n",
       "    <tr>\n",
       "      <th>1336</th>\n",
       "      <td>21</td>\n",
       "      <td>female</td>\n",
       "      <td>no</td>\n",
       "      <td>southwest</td>\n",
       "      <td>2007.94500</td>\n",
       "    </tr>\n",
       "    <tr>\n",
       "      <th>1337</th>\n",
       "      <td>61</td>\n",
       "      <td>female</td>\n",
       "      <td>yes</td>\n",
       "      <td>northwest</td>\n",
       "      <td>29141.36030</td>\n",
       "    </tr>\n",
       "  </tbody>\n",
       "</table>\n",
       "<p>1338 rows × 5 columns</p>\n",
       "</div>"
      ],
      "text/plain": [
       "      age     sex smoker     region      charges\n",
       "0      19  female    yes  southwest  16884.92400\n",
       "1      18    male     no  southeast   1725.55230\n",
       "2      28    male     no  southeast   4449.46200\n",
       "3      33    male     no  northwest  21984.47061\n",
       "4      32    male     no  northwest   3866.85520\n",
       "...   ...     ...    ...        ...          ...\n",
       "1333   50    male     no  northwest  10600.54830\n",
       "1334   18  female     no  northeast   2205.98080\n",
       "1335   18  female     no  southeast   1629.83350\n",
       "1336   21  female     no  southwest   2007.94500\n",
       "1337   61  female    yes  northwest  29141.36030\n",
       "\n",
       "[1338 rows x 5 columns]"
      ]
     },
     "execution_count": 2,
     "metadata": {},
     "output_type": "execute_result"
    }
   ],
   "source": [
    "dataset = pd.read_csv('../../Datasets/insurance.csv')\n",
    "dataset = dataset.drop(columns=['bmi', 'children'])\n",
    "X = dataset.iloc[:, :-1].values\n",
    "y = dataset.iloc[:, -1].values\n",
    "dataset"
   ]
  },
  {
   "cell_type": "code",
   "execution_count": 3,
   "metadata": {},
   "outputs": [
    {
     "name": "stdout",
     "output_type": "stream",
     "text": [
      "[[1.0 0.0 0.0 ... 0.0 1.0 19]\n",
      " [0.0 1.0 1.0 ... 1.0 0.0 18]\n",
      " [0.0 1.0 1.0 ... 1.0 0.0 28]\n",
      " ...\n",
      " [1.0 0.0 1.0 ... 1.0 0.0 18]\n",
      " [1.0 0.0 1.0 ... 0.0 1.0 21]\n",
      " [1.0 0.0 0.0 ... 0.0 0.0 61]]\n"
     ]
    }
   ],
   "source": [
    "# One hot encoding: turn string column into 3 different columns (countries), for 3 different categories\n",
    "# Bindary vector: each country to a certain order of the columns\n",
    "\n",
    "# Coding independent variable\n",
    "from sklearn.compose import ColumnTransformer\n",
    "from sklearn.preprocessing import OneHotEncoder\n",
    "\n",
    "# Create object of the column transformer class\n",
    "# [0] is the index of column to apply OneHotEncoding\n",
    "ct = ColumnTransformer(transformers=[('encoder', OneHotEncoder(), [1,2,3])], remainder='passthrough')\n",
    "\n",
    "# Apply the transform method to change the column X\n",
    "X = np.array(ct.fit_transform(X))\n",
    "\n",
    "print(X)"
   ]
  },
  {
   "cell_type": "markdown",
   "metadata": {
    "colab_type": "text",
    "id": "ptNjcy7bOBlD"
   },
   "source": [
    "## Splitting the dataset into the Training set and Test set"
   ]
  },
  {
   "cell_type": "code",
   "execution_count": 4,
   "metadata": {
    "colab": {},
    "colab_type": "code",
    "id": "C7NdofoCOFQF"
   },
   "outputs": [],
   "source": [
    "from sklearn.model_selection import train_test_split\n",
    "X_train, X_test, y_train, y_test = train_test_split(X, y, test_size = 0.2, random_state = 0)"
   ]
  },
  {
   "cell_type": "markdown",
   "metadata": {
    "colab_type": "text",
    "id": "v4S2fyIBYDcu"
   },
   "source": [
    "## Training the Random Forest Regression model on the whole dataset"
   ]
  },
  {
   "cell_type": "code",
   "execution_count": 5,
   "metadata": {
    "colab": {},
    "colab_type": "code",
    "id": "o8dOCoJ1YKMc"
   },
   "outputs": [
    {
     "data": {
      "text/plain": [
       "RandomForestRegressor(n_estimators=89, random_state=46)"
      ]
     },
     "execution_count": 5,
     "metadata": {},
     "output_type": "execute_result"
    }
   ],
   "source": [
    "from sklearn.ensemble import RandomForestRegressor\n",
    "regressor = RandomForestRegressor(n_estimators = 89, random_state = 46)\n",
    "regressor.fit(X_train, y_train)"
   ]
  },
  {
   "cell_type": "markdown",
   "metadata": {
    "colab_type": "text",
    "id": "DM_jh0frOPKE"
   },
   "source": [
    "## Predicting the Test set results"
   ]
  },
  {
   "cell_type": "code",
   "execution_count": 6,
   "metadata": {
    "colab": {},
    "colab_type": "code",
    "id": "JGa9ZfM4OTNw"
   },
   "outputs": [
    {
     "name": "stdout",
     "output_type": "stream",
     "text": [
      "[[ 9920.09  9724.53]\n",
      " [ 8686.61  8547.69]\n",
      " [27266.98 45702.02]\n",
      " [13975.64 12950.07]\n",
      " [10793.78  9644.25]\n",
      " [11753.63  4500.34]\n",
      " [ 4211.99  2198.19]\n",
      " [10793.78 11436.74]\n",
      " [ 6669.33  7537.16]\n",
      " [ 4173.05  5425.02]\n",
      " [ 5786.51  6753.04]\n",
      " [11746.71 10493.95]\n",
      " [ 8270.22  7337.75]\n",
      " [ 4843.09  4185.1 ]\n",
      " [17433.56 18310.74]\n",
      " [ 9594.83 10702.64]\n",
      " [13886.38 12523.6 ]\n",
      " [ 3894.22  3490.55]\n",
      " [ 6106.13  6457.84]\n",
      " [22230.25 33475.82]\n",
      " [39473.42 23967.38]\n",
      " [11659.62 12643.38]\n",
      " [10782.28 23045.57]\n",
      " [35228.39 23065.42]\n",
      " [ 2459.91  1674.63]\n",
      " [ 5335.48  4667.61]\n",
      " [11125.35  3732.63]\n",
      " [ 7392.34  7682.67]\n",
      " [ 4279.75  3756.62]\n",
      " [ 9362.74  8413.46]\n",
      " [19978.72  8059.68]\n",
      " [45157.34 48970.25]\n",
      " [14603.87 12979.36]\n",
      " [12343.21 20630.28]\n",
      " [29947.27 14571.89]\n",
      " [ 4617.72  4137.52]\n",
      " [ 8389.59  8347.16]\n",
      " [35333.7  51194.56]\n",
      " [23146.6  40003.33]\n",
      " [ 3193.86  1880.49]\n",
      " [ 6534.39  5458.05]\n",
      " [ 4897.33  2867.12]\n",
      " [26424.96 20149.32]\n",
      " [37285.13 47496.49]\n",
      " [29910.93 36149.48]\n",
      " [ 2949.88 26018.95]\n",
      " [ 9594.83 19749.38]\n",
      " [ 6626.09  6940.91]\n",
      " [ 4617.72  4718.2 ]\n",
      " [12220.05 22192.44]\n",
      " [15373.42  2899.49]\n",
      " [ 4172.26 18838.7 ]\n",
      " [28312.39 23568.27]\n",
      " [39428.45 46255.11]\n",
      " [11878.76 24227.34]\n",
      " [ 6428.56  3268.85]\n",
      " [ 2924.69  2322.62]\n",
      " [16986.33  8827.21]\n",
      " [15071.33 14478.33]\n",
      " [13886.38 13112.6 ]\n",
      " [ 2983.15  1253.94]\n",
      " [32327.04 46718.16]\n",
      " [12783.67 13919.82]\n",
      " [ 9651.37  9630.4 ]\n",
      " [ 9735.64 10736.87]\n",
      " [ 9691.61  9880.07]\n",
      " [38278.05 32548.34]\n",
      " [26085.61 38746.36]\n",
      " [ 2151.31  3180.51]\n",
      " [ 7083.69  8162.72]\n",
      " [14910.43 13041.92]\n",
      " [11441.14 11554.22]\n",
      " [32643.5  16232.85]\n",
      " [14249.72 13887.97]\n",
      " [13257.16 13012.21]\n",
      " [13373.43 13217.09]\n",
      " [16208.47  7147.1 ]\n",
      " [ 7358.55  7731.43]\n",
      " [35591.33 20296.86]\n",
      " [41186.44 47403.88]\n",
      " [12260.61 11658.38]\n",
      " [38108.95 45863.21]\n",
      " [ 2420.03  2055.32]\n",
      " [ 8524.1   7441.05]\n",
      " [28339.82 41034.22]\n",
      " [31539.27 18972.49]\n",
      " [ 3630.69  3410.32]\n",
      " [ 3399.88  2699.57]\n",
      " [21021.53 12333.83]\n",
      " [30916.9  36837.47]\n",
      " [ 4677.4   6334.34]\n",
      " [12343.21 10214.64]\n",
      " [ 3836.59 17878.9 ]\n",
      " [11400.5   8515.76]\n",
      " [11753.63  4518.83]\n",
      " [ 4677.4   5148.55]\n",
      " [42547.96 42303.69]\n",
      " [38352.14 38998.55]\n",
      " [ 4509.86  5327.4 ]\n",
      " [11363.5  10602.39]\n",
      " [ 2132.52  1824.29]\n",
      " [ 5943.29  5377.46]\n",
      " [ 3888.52  4349.46]\n",
      " [36090.91 37742.58]\n",
      " [26600.28 32787.46]\n",
      " [10913.96  3353.47]\n",
      " [11363.5  10577.09]\n",
      " [ 5092.93  3556.92]\n",
      " [11894.49 11944.59]\n",
      " [41423.39 52590.83]\n",
      " [12042.09 12475.35]\n",
      " [11168.54  4266.17]\n",
      " [10215.76  9249.5 ]\n",
      " [19113.53 33732.69]\n",
      " [37522.02 48675.52]\n",
      " [ 8039.34  7729.65]\n",
      " [ 2433.26  1964.78]\n",
      " [ 9651.37  8444.47]\n",
      " [21021.53 12347.17]\n",
      " [ 8251.64  9301.89]\n",
      " [32426.76 42124.52]\n",
      " [28851.46  9991.04]\n",
      " [14970.86 14319.03]\n",
      " [ 4629.99  5428.73]\n",
      " [ 7660.42  7626.99]\n",
      " [ 4897.92  4906.41]\n",
      " [29868.77 23401.31]\n",
      " [40790.72 21098.55]\n",
      " [41423.39 48173.36]\n",
      " [ 2248.61  1917.32]\n",
      " [ 7913.39  8219.2 ]\n",
      " [ 2429.1   1725.55]\n",
      " [ 5605.05  5976.83]\n",
      " [10500.72  9361.33]\n",
      " [33455.03 22144.03]\n",
      " [25839.98 35491.64]\n",
      " [37724.03 19515.54]\n",
      " [ 9594.83 10107.22]\n",
      " [34251.53 23244.79]\n",
      " [ 9904.81  2789.06]\n",
      " [ 2645.43  2261.57]\n",
      " [19651.01 10594.5 ]\n",
      " [ 8377.9   9304.7 ]\n",
      " [10811.88 10435.07]\n",
      " [ 6958.21  4894.75]\n",
      " [15562.65 14313.85]\n",
      " [13905.45 28287.9 ]\n",
      " [ 4232.91 14426.07]\n",
      " [ 3322.13  1627.28]\n",
      " [10811.88 25517.11]\n",
      " [ 7115.52  6555.07]\n",
      " [26367.93 39611.76]\n",
      " [10500.72  9964.06]\n",
      " [ 2429.1   1720.35]\n",
      " [ 4172.26  2730.11]\n",
      " [ 7392.34  6500.24]\n",
      " [ 2420.03  2643.27]\n",
      " [ 2429.1   1719.44]\n",
      " [11746.71 11085.59]\n",
      " [ 9683.02 10115.01]\n",
      " [ 4268.36  4846.92]\n",
      " [18869.64 12982.87]\n",
      " [13257.16 28923.14]\n",
      " [ 8847.85  9391.35]\n",
      " [ 4677.4   4544.23]\n",
      " [ 2873.15 17128.43]\n",
      " [23344.78 13844.51]\n",
      " [ 4535.1   6113.23]\n",
      " [ 5148.1   4441.21]\n",
      " [ 3762.38  1633.96]\n",
      " [ 9410.73  4058.71]\n",
      " [ 6428.56  4435.09]\n",
      " [ 9178.8   8310.84]\n",
      " [ 2535.43  1986.93]\n",
      " [ 3221.86  4260.74]\n",
      " [ 5603.62  4504.66]\n",
      " [ 6428.56  4428.89]\n",
      " [ 6553.35  6117.49]\n",
      " [39694.31 30184.94]\n",
      " [ 4027.74  1708.93]\n",
      " [28851.46 11187.66]\n",
      " [ 5894.32  6796.86]\n",
      " [11535.64 11356.66]\n",
      " [ 2788.97  2498.41]\n",
      " [11753.63 27375.9 ]\n",
      " [38953.78 28101.33]\n",
      " [ 3027.07  2254.8 ]\n",
      " [ 2287.3   2597.78]\n",
      " [18098.55 14692.67]\n",
      " [10893.08 10370.91]\n",
      " [39065.18 41097.16]\n",
      " [ 4156.69  3981.98]\n",
      " [ 5131.2   5472.45]\n",
      " [35892.25 21223.68]\n",
      " [ 3358.74  2534.39]\n",
      " [ 2829.41  1972.95]\n",
      " [ 7790.47  6406.41]\n",
      " [ 6180.25  6551.75]\n",
      " [ 4897.33  4058.12]\n",
      " [ 4173.05  4243.59]\n",
      " [11971.51 11512.41]\n",
      " [38601.23 46889.26]\n",
      " [12237.65 12268.63]\n",
      " [36041.16 19199.94]\n",
      " [13956.39  4433.39]\n",
      " [35228.39 42969.85]\n",
      " [ 2931.49 23241.47]\n",
      " [17530.34  9140.95]\n",
      " [ 5548.87  5836.52]\n",
      " [ 2429.1   1149.4 ]\n",
      " [21465.37  8765.25]\n",
      " [21880.26 14043.48]\n",
      " [ 5092.93  5312.17]\n",
      " [10851.73 10795.94]\n",
      " [ 6735.86  6282.23]\n",
      " [ 2829.41  1969.61]\n",
      " [ 7788.69  6746.74]\n",
      " [ 6180.25  5354.07]\n",
      " [13905.45 14001.29]\n",
      " [ 6916.39  6877.98]\n",
      " [ 5330.32  6196.45]\n",
      " [ 7622.05  7986.48]\n",
      " [10742.24  8277.52]\n",
      " [ 3836.59  3206.49]\n",
      " [11889.34 11848.14]\n",
      " [22622.48 14210.54]\n",
      " [11285.12 12265.51]\n",
      " [11889.34 11837.16]\n",
      " [ 6666.71  6652.53]\n",
      " [ 5603.62  2137.65]\n",
      " [ 2429.1   1131.51]\n",
      " [ 8357.78  8342.91]\n",
      " [13905.45 12244.53]\n",
      " [ 4211.99  4561.19]\n",
      " [ 4227.75 17626.24]\n",
      " [ 6735.86  6875.96]\n",
      " [15275.29  9447.38]\n",
      " [26508.25 34254.05]\n",
      " [ 6548.88  6067.13]\n",
      " [18462.19 11729.68]\n",
      " [ 6671.29  5383.54]\n",
      " [19783.12 37465.34]\n",
      " [ 7029.49  7371.77]\n",
      " [14592.85  7325.05]\n",
      " [ 9163.74  8410.05]\n",
      " [10672.11 10461.98]\n",
      " [ 2804.55  3279.87]\n",
      " [ 9178.8   7727.25]\n",
      " [ 3138.21  2731.91]\n",
      " [ 8938.7   6858.48]\n",
      " [25521.9  19521.97]\n",
      " [46374.75 47305.31]\n",
      " [ 3630.69  3987.93]\n",
      " [ 9667.49  3238.44]\n",
      " [ 4211.99  7323.73]\n",
      " [ 4027.74  1704.57]\n",
      " [ 8524.1   7445.92]\n",
      " [ 3762.38  1629.83]\n",
      " [ 3358.74  4877.98]\n",
      " [ 4056.67  3561.89]\n",
      " [ 9807.48  8605.36]\n",
      " [39723.42 24520.26]\n",
      " [38953.78 45710.21]\n",
      " [14429.83 15019.76]\n",
      " [ 7236.28  6664.69]\n",
      " [11564.1  20709.02]\n",
      " [25521.9  40932.43]\n",
      " [ 8357.78  9500.57]]\n"
     ]
    }
   ],
   "source": [
    "y_pred = regressor.predict(X_test)\n",
    "np.set_printoptions(precision=2)\n",
    "print(np.concatenate((y_pred.reshape(len(y_pred),1), y_test.reshape(len(y_test),1)),1))"
   ]
  },
  {
   "cell_type": "markdown",
   "metadata": {
    "colab_type": "text",
    "id": "Cd8VZM5POWXN"
   },
   "source": [
    "## Evaluating the Model Performance"
   ]
  },
  {
   "cell_type": "code",
   "execution_count": 7,
   "metadata": {
    "colab": {},
    "colab_type": "code",
    "id": "a7y1rXlfOZJo"
   },
   "outputs": [
    {
     "data": {
      "text/plain": [
       "0.6951639983444933"
      ]
     },
     "execution_count": 7,
     "metadata": {},
     "output_type": "execute_result"
    }
   ],
   "source": [
    "from sklearn.metrics import r2_score\n",
    "r2_score(y_test, y_pred)"
   ]
  },
  {
   "cell_type": "code",
   "execution_count": 8,
   "metadata": {},
   "outputs": [
    {
     "name": "stdout",
     "output_type": "stream",
     "text": [
      "        Gini-importance\n",
      "age            0.015865\n",
      "sex            0.015788\n",
      "smoker         0.358373\n",
      "region         0.303772\n"
     ]
    },
    {
     "data": {
      "image/png": "[encoded data removed]",
      "text/plain": [
       "<Figure size 432x288 with 1 Axes>"
      ]
     },
     "metadata": {
      "needs_background": "light"
     },
     "output_type": "display_data"
    }
   ],
   "source": [
    "feats = {} # a dict to hold feature_name: feature_importance\n",
    "feat_dataset = pd.DataFrame(dataset.iloc[:, :-1])\n",
    "\n",
    "for feature, importance in zip(feat_dataset.columns, regressor.feature_importances_):\n",
    "    feats[feature] = importance #add the name/value pair \n",
    "\n",
    "importances = pd.DataFrame.from_dict(feats, orient='index').rename(columns={0: 'Gini-importance'})\n",
    "importances.sort_values(by='Gini-importance').plot(kind='bar', rot=45)\n",
    "print(importances)"
   ]
  },
  {
   "cell_type": "code",
   "execution_count": 9,
   "metadata": {},
   "outputs": [],
   "source": [
    "# import seaborn as sns\n",
    "# sns.heatmap(dataset.corr(),cmap='magma')"
   ]
  },
  {
   "cell_type": "code",
   "execution_count": 10,
   "metadata": {},
   "outputs": [
    {
     "name": "stdout",
     "output_type": "stream",
     "text": [
      "Accuracy: 61.40 %\n",
      "Standard Deviation: 6.70 %\n"
     ]
    }
   ],
   "source": [
    "# Apply k-fold cross validation\n",
    "\n",
    "from sklearn.model_selection import cross_val_score\n",
    "accuracies = cross_val_score(estimator = regressor, X = X_train, y = y_train, cv = 10)\n",
    "print(\"Accuracy: {:.2f} %\".format(accuracies.mean()*100))\n",
    "print(\"Standard Deviation: {:.2f} %\".format(accuracies.std()*100))"
   ]
  },
  {
   "cell_type": "code",
   "execution_count": null,
   "metadata": {},
   "outputs": [],
   "source": [
    "# Apply Grid Search to find best model and parameters\n",
    "\n",
    "number_est = range(85, 95)\n",
    "rand_state = range(44, 55)\n",
    "from sklearn.model_selection import GridSearchCV\n",
    "parameters = [{'n_estimators': number_est, 'random_state': rand_state},\n",
    "              ]\n",
    "grid_search = GridSearchCV(estimator = regressor,\n",
    "                           param_grid = parameters,\n",
    "                           cv = 10,\n",
    "                           n_jobs = -1)\n",
    "grid_search.fit(X_train, y_train)\n",
    "best_accuracy = grid_search.best_score_\n",
    "best_parameters = grid_search.best_params_\n",
    "print(\"Best Accuracy: {:.2f} %\".format(best_accuracy*100))\n",
    "print(\"Best Parameters:\", best_parameters)"
   ]
  },
  {
   "cell_type": "code",
   "execution_count": null,
   "metadata": {},
   "outputs": [],
   "source": []
  },
  {
   "cell_type": "markdown",
   "metadata": {},
   "source": [
    "# Model without top two features"
   ]
  },
  {
   "cell_type": "code",
   "execution_count": null,
   "metadata": {},
   "outputs": [],
   "source": []
  },
  {
   "cell_type": "code",
   "execution_count": null,
   "metadata": {},
   "outputs": [],
   "source": [
    "# def predict():\n",
    "#     user_inputs = []\n",
    "#     age = float(input(\"How old are you? \"))\n",
    "#     user_inputs.append(age)\n",
    "#     gender = input(\"What is your gender? (male/female)\").lower()\n",
    "#     user_inputs.append(gender)\n",
    "#     bmi = input(\"What is your bmi?\")\n",
    "#     user_inputs.append(bmi)\n",
    "#     children = input(\"How many children are covered under your plan?\")\n",
    "#     user_inputs.append(children)\n",
    "#     smoker = input(\"Do you smoke? (yes/no)\")\n",
    "#     user_inputs.append(smoker)\n",
    "#     region = input(\"What region of the US do you currently live in?\")\n",
    "#     user_inputs.append(region)\n",
    "    \n",
    "#     predicted_value = regressor.predict(ct.transform([user_inputs]))\n",
    "    \n",
    "#     print(f'''The predicted value for the inputs: \n",
    "#           age: {user_inputs[0]} \n",
    "#           gender: {user_inputs[1]}\n",
    "#           bmi: {user_inputs[2]}\n",
    "#           number of children: {user_inputs[3]}\n",
    "#           smoker: {user_inputs[4]}\n",
    "#           region: {user_inputs[5]}\n",
    "#           is: ${predicted_value[0]}''')\n",
    "\n",
    "# predict()"
   ]
  },
  {
   "cell_type": "code",
   "execution_count": null,
   "metadata": {},
   "outputs": [],
   "source": []
  }
 ],
 "metadata": {
  "colab": {
   "collapsed_sections": [],
   "name": "random_forest_regression.ipynb",
   "provenance": [],
   "toc_visible": true
  },
  "kernelspec": {
   "display_name": "Python 3",
   "language": "python",
   "name": "python3"
  },
  "language_info": {
   "codemirror_mode": {
    "name": "ipython",
    "version": 3
   },
   "file_extension": ".py",
   "mimetype": "text/x-python",
   "name": "python",
   "nbconvert_exporter": "python",
   "pygments_lexer": "ipython3",
   "version": "3.7.8"
  }
 },
 "nbformat": 4,
 "nbformat_minor": 1
}
