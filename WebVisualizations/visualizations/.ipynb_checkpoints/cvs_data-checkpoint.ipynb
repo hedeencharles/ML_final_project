{
 "cells": [
  {
   "cell_type": "code",
   "execution_count": null,
   "metadata": {},
   "outputs": [],
   "source": [
    "import os\n",
    "import pandas as pd"
   ]
  },
  {
   "cell_type": "code",
   "execution_count": null,
   "metadata": {},
   "outputs": [],
   "source": [
    "# generate path to csv\n",
    "csv_path = os.path.join('C:\\Users\\Hermela\\Documents\\bootcamp\\Web-Design-Challenge\\WebVisualizations\\Resources\\cities.csv')\n",
    "cities_csv = pd.read_csv(csv_path)\n",
    "cities_csv.head()"
   ]
  },
  {
   "cell_type": "code",
   "execution_count": null,
   "metadata": {},
   "outputs": [],
   "source": [
    "cities_csv = cities_csv.rename(columns={'Max Temp': 'Max_Temp', 'Wind Speed': 'Wind_Speed'})\n",
    "cities_csv.head()"
   ]
  },
  {
   "cell_type": "code",
   "execution_count": null,
   "metadata": {},
   "outputs": [],
   "source": [
    "# create html table and save to file \n",
    "html_file = cities_csv.to_html('table.html', index=False, classes=['table', 'table-striped', 'table-hover'])"
   ]
  },
  {
   "cell_type": "code",
   "execution_count": null,
   "metadata": {},
   "outputs": [],
   "source": []
  }
 ],
 "metadata": {},
 "nbformat": 4,
 "nbformat_minor": 1
}
